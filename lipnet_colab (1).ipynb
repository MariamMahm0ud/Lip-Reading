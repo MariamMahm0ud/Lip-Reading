{
  "metadata": {
    "kernelspec": {
      "name": "python3",
      "display_name": "Python 3"
    },
    "language_info": {
      "name": "python",
      "version": "3.10.13",
      "mimetype": "text/x-python",
      "codemirror_mode": {
        "name": "ipython",
        "version": 3
      },
      "pygments_lexer": "ipython3",
      "nbconvert_exporter": "python",
      "file_extension": ".py"
    },
    "kaggle": {
      "accelerator": "none",
      "dataSources": [],
      "dockerImageVersionId": 30698,
      "isInternetEnabled": true,
      "language": "python",
      "sourceType": "notebook",
      "isGpuEnabled": false
    },
    "colab": {
      "provenance": [],
      "gpuType": "T4"
    },
    "accelerator": "GPU"
  },
  "nbformat_minor": 5,
  "nbformat": 4,
  "cells": [
    {
      "cell_type": "markdown",
      "source": [
        "# 0. Install and Import Dependencies"
      ],
      "metadata": {
        "tags": [],
        "id": "D2rMNcdHNwPm"
      },
      "id": "D2rMNcdHNwPm"
    },
    {
      "cell_type": "code",
      "source": [
        "!pip list"
      ],
      "metadata": {
        "scrolled": true,
        "tags": [],
        "execution": {
          "iopub.status.busy": "2024-05-10T19:00:53.997857Z",
          "iopub.execute_input": "2024-05-10T19:00:53.998216Z",
          "iopub.status.idle": "2024-05-10T19:00:58.123093Z",
          "shell.execute_reply.started": "2024-05-10T19:00:53.998184Z",
          "shell.execute_reply": "2024-05-10T19:00:58.121842Z"
        },
        "trusted": true,
        "id": "FjnGSOpZNwPo",
        "outputId": "7024d99e-b680-4bef-d0f2-1b286961a9af"
      },
      "execution_count": null,
      "outputs": [
        {
          "name": "stdout",
          "text": "Package                                  Version\n---------------------------------------- -------------------\nabsl-py                                  1.4.0\naccelerate                               0.29.3\naccess                                   1.1.9\naffine                                   2.4.0\naiobotocore                              2.12.3\naiofiles                                 22.1.0\naiohttp                                  3.9.1\naiohttp-cors                             0.7.0\naioitertools                             0.11.0\naiorwlock                                1.3.0\naiosignal                                1.3.1\naiosqlite                                0.19.0\nalbumentations                           1.4.0\nalembic                                  1.13.1\naltair                                   5.3.0\nannotated-types                          0.6.0\nannoy                                    1.17.3\nanyio                                    4.2.0\napache-beam                              2.46.0\naplus                                    0.11.0\nappdirs                                  1.4.4\narchspec                                 0.2.3\nargon2-cffi                              23.1.0\nargon2-cffi-bindings                     21.2.0\narray-record                             0.5.0\narrow                                    1.3.0\narviz                                    0.18.0\nastroid                                  3.1.0\nastropy                                  6.0.1\nastropy-iers-data                        0.2024.4.15.2.45.49\nasttokens                                2.4.1\nastunparse                               1.6.3\nasync-lru                                2.0.4\nasync-timeout                            4.0.3\nattrs                                    23.2.0\naudioread                                3.0.1\nautopep8                                 2.0.4\nBabel                                    2.14.0\nbackoff                                  2.2.1\nbayesian-optimization                    1.4.3\nbeatrix_jupyterlab                       2023.128.151533\nbeautifulsoup4                           4.12.2\nblake3                                   0.2.1\nbleach                                   6.1.0\nblessed                                  1.20.0\nblinker                                  1.7.0\nblis                                     0.7.11\nblosc2                                   2.6.2\nbokeh                                    3.4.1\nboltons                                  23.1.1\nBoruta                                   0.3\nboto3                                    1.26.100\nbotocore                                 1.34.69\nbq_helper                                0.4.1\nbqplot                                   0.12.43\nbranca                                   0.7.1\nbrewer2mpl                               1.4.1\nBrotli                                   1.1.0\nbrotlipy                                 0.7.0\ncached-property                          1.5.2\ncachetools                               4.2.4\nCartopy                                  0.23.0\ncatalogue                                2.0.10\ncatalyst                                 22.4\ncatboost                                 1.2.3\ncategory-encoders                        2.6.3\ncertifi                                  2024.2.2\ncesium                                   0.12.1\ncffi                                     1.16.0\ncharset-normalizer                       3.3.2\nchex                                     0.1.86\ncleverhans                               4.0.0\nclick                                    8.1.7\nclick-plugins                            1.1.1\ncligj                                    0.7.2\ncloud-tpu-client                         0.10\ncloud-tpu-profiler                       2.4.0\ncloudpathlib                             0.16.0\ncloudpickle                              2.2.1\ncmdstanpy                                1.2.2\ncolorama                                 0.4.6\ncolorcet                                 3.1.0\ncolorful                                 0.5.6\ncolorlog                                 6.8.2\ncolorlover                               0.3.0\ncomm                                     0.2.1\nconda                                    24.3.0\nconda-libmamba-solver                    23.12.0\nconda-package-handling                   2.2.0\nconda_package_streaming                  0.9.0\nconfection                               0.1.4\ncontextily                               1.6.0\ncontourpy                                1.2.0\nconvertdate                              2.4.0\ncrcmod                                   1.7\ncryptography                             41.0.7\ncufflinks                                0.17.3\nCVXcanon                                 0.1.2\ncycler                                   0.12.1\ncymem                                    2.0.8\nCython                                   3.0.8\ncytoolz                                  0.12.3\ndaal                                     2024.3.0\ndaal4py                                  2024.3.0\ndacite                                   1.8.1\ndask                                     2024.4.1\ndask-expr                                1.0.11\ndataclasses-json                         0.6.4\ndataproc_jupyter_plugin                  0.1.66\ndatasets                                 2.18.0\ndatashader                               0.16.0\ndatatile                                 1.0.3\ndb-dtypes                                1.2.0\ndeap                                     1.4.1\ndebugpy                                  1.8.0\ndecorator                                5.1.1\ndeepdiff                                 7.0.1\ndefusedxml                               0.7.1\nDeprecated                               1.2.14\ndeprecation                              2.1.0\ndescartes                                1.1.0\ndill                                     0.3.8\ndipy                                     1.9.0\ndistlib                                  0.3.8\ndistro                                   1.9.0\ndm-tree                                  0.1.8\ndocker                                   7.0.0\ndocker-pycreds                           0.4.0\ndocopt                                   0.6.2\ndocstring-parser                         0.15\ndocstring-to-markdown                    0.15\ndocutils                                 0.21.1\nearthengine-api                          0.1.399\neasydict                                 1.13\neasyocr                                  1.7.1\necos                                     2.0.13\neli5                                     0.13.0\nemoji                                    2.11.0\nen-core-web-lg                           3.7.1\nen-core-web-sm                           3.7.1\nentrypoints                              0.4\nephem                                    4.1.5\nesda                                     2.5.1\nessentia                                 2.1b6.dev1110\net-xmlfile                               1.1.0\netils                                    1.6.0\nexceptiongroup                           1.2.0\nexecuting                                2.0.1\nexplainable-ai-sdk                       1.3.3\nFarama-Notifications                     0.0.4\nfastai                                   2.7.14\nfastapi                                  0.108.0\nfastavro                                 1.9.3\nfastcore                                 1.5.29\nfastdownload                             0.0.7\nfasteners                                0.19\nfastjsonschema                           2.19.1\nfastprogress                             1.0.3\nfasttext                                 0.9.2\nfeather-format                           0.4.1\nfeaturetools                             1.30.0\nfilelock                                 3.13.1\nfiona                                    1.9.6\nfitter                                   1.7.0\nflake8                                   7.0.0\nflashtext                                2.7\nFlask                                    3.0.3\nflatbuffers                              23.5.26\nflax                                     0.8.2\nfolium                                   0.16.0\nfonttools                                4.47.0\nfqdn                                     1.5.1\nfrozendict                               2.4.2\nfrozenlist                               1.4.1\nfsspec                                   2024.2.0\nfuncy                                    2.0\nfury                                     0.10.0\nfuture                                   1.0.0\nfuzzywuzzy                               0.18.0\ngast                                     0.5.4\ngatspy                                   0.3\ngcsfs                                    2024.2.0\ngensim                                   4.3.2\ngeographiclib                            2.0\nGeohash                                  1.0\ngeojson                                  3.1.0\ngeopandas                                0.14.3\ngeoplot                                  0.5.1\ngeopy                                    2.4.1\ngeoviews                                 1.12.0\nggplot                                   0.11.5\ngiddy                                    2.3.5\ngitdb                                    4.0.11\nGitPython                                3.1.41\ngoogle-ai-generativelanguage             0.6.2\ngoogle-api-core                          2.11.1\ngoogle-api-python-client                 2.126.0\ngoogle-apitools                          0.5.31\ngoogle-auth                              2.26.1\ngoogle-auth-httplib2                     0.2.0\ngoogle-auth-oauthlib                     1.2.0\ngoogle-cloud-aiplatform                  0.6.0a1\ngoogle-cloud-artifact-registry           1.10.0\ngoogle-cloud-automl                      1.0.1\ngoogle-cloud-bigquery                    2.34.4\ngoogle-cloud-bigtable                    1.7.3\ngoogle-cloud-core                        2.4.1\ngoogle-cloud-datastore                   1.15.5\ngoogle-cloud-dlp                         3.14.0\ngoogle-cloud-jupyter-config              0.0.5\ngoogle-cloud-language                    2.13.3\ngoogle-cloud-monitoring                  2.18.0\ngoogle-cloud-pubsub                      2.19.0\ngoogle-cloud-pubsublite                  1.9.0\ngoogle-cloud-recommendations-ai          0.7.1\ngoogle-cloud-resource-manager            1.11.0\ngoogle-cloud-spanner                     3.40.1\ngoogle-cloud-storage                     1.44.0\ngoogle-cloud-translate                   3.12.1\ngoogle-cloud-videointelligence           2.13.3\ngoogle-cloud-vision                      2.8.0\ngoogle-crc32c                            1.5.0\ngoogle-generativeai                      0.5.1\ngoogle-pasta                             0.2.0\ngoogle-resumable-media                   2.7.0\ngoogleapis-common-protos                 1.62.0\ngplearn                                  0.4.2\ngpustat                                  1.0.0\ngpxpy                                    1.6.2\ngraphviz                                 0.20.3\ngreenlet                                 3.0.3\ngrpc-google-iam-v1                       0.12.7\ngrpcio                                   1.60.0\ngrpcio-status                            1.48.1\ngviz-api                                 1.10.0\ngym                                      0.26.2\ngym-notices                              0.0.8\ngymnasium                                0.29.0\nh11                                      0.14.0\nh2o                                      3.46.0.1\nh5netcdf                                 1.3.0\nh5py                                     3.10.0\nhaversine                                2.8.1\nhdfs                                     2.7.3\nhep-ml                                   0.7.2\nhijri-converter                          2.3.1\nhmmlearn                                 0.3.2\nholidays                                 0.24\nholoviews                                1.18.3\nhpsklearn                                0.1.0\nhtml5lib                                 1.1\nhtmlmin                                  0.1.12\nhttpcore                                 1.0.5\nhttplib2                                 0.21.0\nhttptools                                0.6.1\nhttpx                                    0.27.0\nhuggingface-hub                          0.22.2\nhunspell                                 0.5.5\nhydra-slayer                             0.5.0\nhyperopt                                 0.2.7\nhypertools                               0.8.0\nidna                                     3.6\nigraph                                   0.11.4\nimagecodecs                              2024.1.1\nImageHash                                4.3.1\nimageio                                  2.33.1\nimbalanced-learn                         0.12.2\nimgaug                                   0.4.0\nimportlib-metadata                       6.11.0\nimportlib-resources                      6.1.1\ninequality                               1.0.1\niniconfig                                2.0.0\nipydatawidgets                           4.3.5\nipykernel                                6.28.0\nipyleaflet                               0.18.2\nipympl                                   0.7.0\nipython                                  8.20.0\nipython-genutils                         0.2.0\nipython-sql                              0.5.0\nipyvolume                                0.6.3\nipyvue                                   1.11.0\nipyvuetify                               1.9.4\nipywebrtc                                0.6.0\nipywidgets                               7.7.1\nisoduration                              20.11.0\nisort                                    5.13.2\nisoweek                                  1.3.3\nitsdangerous                             2.2.0\nJanome                                   0.5.0\njaraco.classes                           3.3.0\njax                                      0.4.26\njax-jumpy                                1.0.0\njaxlib                                   0.4.26\njedi                                     0.19.1\njeepney                                  0.8.0\njieba                                    0.42.1\nJinja2                                   3.1.2\njmespath                                 1.0.1\njoblib                                   1.4.0\njson5                                    0.9.14\njsonpatch                                1.33\njsonpointer                              2.4\njsonschema                               4.20.0\njsonschema-specifications                2023.12.1\njupyter_client                           7.4.9\njupyter-console                          6.6.3\njupyter_core                             5.7.1\njupyter-events                           0.9.0\njupyter-http-over-ws                     0.0.8\njupyter-lsp                              1.5.1\njupyter_server                           2.12.5\njupyter_server_fileid                    0.9.1\njupyter-server-mathjax                   0.2.6\njupyter_server_proxy                     4.1.0\njupyter_server_terminals                 0.5.1\njupyter_server_ydoc                      0.8.0\njupyter-ydoc                             0.2.5\njupyterlab                               4.1.6\njupyterlab_git                           0.44.0\njupyterlab-lsp                           5.1.0\njupyterlab_pygments                      0.3.0\njupyterlab_server                        2.25.2\njupyterlab-widgets                       3.0.9\njupytext                                 1.16.0\nkaggle                                   1.6.12\nkaggle-environments                      1.14.3\nkagglehub                                0.2.3\nkeras                                    3.2.1\nkeras-cv                                 0.8.2\nkeras-nlp                                0.9.3\nkeras-tuner                              1.4.6\nkernels-mixer                            0.0.7\nkeyring                                  24.3.0\nkeyrings.google-artifactregistry-auth    1.1.2\nkfp                                      2.5.0\nkfp-pipeline-spec                        0.2.2\nkfp-server-api                           2.0.5\nkiwisolver                               1.4.5\nkmapper                                  2.0.1\nkmodes                                   0.12.2\nkorean-lunar-calendar                    0.3.1\nkornia                                   0.7.2\nkornia_rs                                0.1.3\nkt-legacy                                1.0.5\nkubernetes                               26.1.0\nlangcodes                                3.3.0\nlangid                                   1.1.6\nlazy_loader                              0.3\nlearntools                               0.3.4\nleven                                    1.0.4\nlibclang                                 16.0.6\nlibmambapy                               1.5.8\nlibpysal                                 4.9.2\nlibrosa                                  0.10.1\nlightgbm                                 4.2.0\nlightning-utilities                      0.11.2\nlime                                     0.2.0.1\nline-profiler                            4.1.2\nlinkify-it-py                            2.0.3\nllvmlite                                 0.41.1\nlml                                      0.1.0\nlocket                                   1.0.0\nloguru                                   0.7.2\nLunarCalendar                            0.0.9\nlxml                                     5.2.1\nlz4                                      4.3.3\nMako                                     1.3.3\nmamba                                    1.5.8\nmapclassify                              2.6.1\nMarkdown                                 3.5.2\nmarkdown-it-py                           3.0.0\nMarkupSafe                               2.1.3\nmarshmallow                              3.21.1\nmatplotlib                               3.7.5\nmatplotlib-inline                        0.1.6\nmatplotlib-venn                          0.11.10\nmccabe                                   0.7.0\nmdit-py-plugins                          0.4.0\nmdurl                                    0.1.2\nmemory-profiler                          0.61.0\nmenuinst                                 2.0.1\nmercantile                               1.2.1\nmgwr                                     2.2.1\nmissingno                                0.5.2\nmistune                                  0.8.4\nmizani                                   0.11.1\nml-dtypes                                0.2.0\nmlcrate                                  0.2.0\nmlens                                    0.2.3\nmlxtend                                  0.23.1\nmne                                      1.6.1\nmnist                                    0.2.2\nmomepy                                   0.7.0\nmore-itertools                           10.2.0\nmpld3                                    0.5.10\nmpmath                                   1.3.0\nmsgpack                                  1.0.7\nmultidict                                6.0.4\nmultimethod                              1.10\nmultipledispatch                         1.0.0\nmultiprocess                             0.70.16\nmunkres                                  1.1.4\nmurmurhash                               1.0.10\nmypy-extensions                          1.0.0\nnamex                                    0.0.8\nnb_conda                                 2.2.1\nnb-conda-kernels                         2.3.1\nnbclassic                                1.0.0\nnbclient                                 0.5.13\nnbconvert                                6.4.5\nnbdime                                   3.2.0\nnbformat                                 5.9.2\nndindex                                  1.8\nnest-asyncio                             1.5.8\nnetworkx                                 3.2.1\nnibabel                                  5.2.1\nnilearn                                  0.10.4\nninja                                    1.11.1.1\nnltk                                     3.2.4\nnose                                     1.3.7\nnotebook                                 6.5.4\nnotebook_executor                        0.2\nnotebook_shim                            0.2.3\nnumba                                    0.58.1\nnumexpr                                  2.10.0\nnumpy                                    1.26.4\nnvidia-ml-py                             11.495.46\noauth2client                             4.1.3\noauthlib                                 3.2.2\nobjsize                                  0.6.1\nodfpy                                    1.4.1\nolefile                                  0.47\nonnx                                     1.16.0\nopencensus                               0.11.4\nopencensus-context                       0.1.3\nopencv-contrib-python                    4.9.0.80\nopencv-python                            4.9.0.80\nopencv-python-headless                   4.9.0.80\nopenpyxl                                 3.1.2\nopenslide-python                         1.3.1\nopentelemetry-api                        1.22.0\nopentelemetry-exporter-otlp              1.22.0\nopentelemetry-exporter-otlp-proto-common 1.22.0\nopentelemetry-exporter-otlp-proto-grpc   1.22.0\nopentelemetry-exporter-otlp-proto-http   1.22.0\nopentelemetry-proto                      1.22.0\nopentelemetry-sdk                        1.22.0\nopentelemetry-semantic-conventions       0.43b0\nopt-einsum                               3.3.0\noptax                                    0.2.2\noptree                                   0.11.0\noptuna                                   3.6.1\norbax-checkpoint                         0.5.9\nordered-set                              4.1.0\norjson                                   3.9.10\nortools                                  9.4.1874\nosmnx                                    1.9.2\noverrides                                7.4.0\npackaging                                21.3\npandas                                   2.2.2\npandas-datareader                        0.10.0\npandas-profiling                         3.6.6\npandas-summary                           0.2.0\npandasql                                 0.7.3\npandocfilters                            1.5.0\npanel                                    1.4.1\npapermill                                2.5.0\nparam                                    2.1.0\nparso                                    0.8.3\npartd                                    1.4.1\npath                                     16.14.0\npath.py                                  12.5.0\npathos                                   0.3.2\npatsy                                    0.5.6\npdf2image                                1.17.0\npettingzoo                               1.24.0\npexpect                                  4.8.0\nphik                                     0.12.4\npickleshare                              0.7.5\nPillow                                   9.5.0\npip                                      23.3.2\npkgutil_resolve_name                     1.3.10\nplatformdirs                             4.2.0\nplotly                                   5.18.0\nplotly-express                           0.4.1\nplotnine                                 0.13.4\npluggy                                   1.4.0\npointpats                                2.4.0\npolars                                   0.20.21\npolyglot                                 16.7.4\npooch                                    1.8.1\npox                                      0.3.4\nppca                                     0.0.4\nppft                                     1.7.6.8\npreprocessing                            0.1.13\npreshed                                  3.0.9\nprettytable                              3.9.0\nprogressbar2                             4.4.2\nprometheus-client                        0.19.0\npromise                                  2.3\nprompt-toolkit                           3.0.42\nprophet                                  1.1.1\nproto-plus                               1.23.0\nprotobuf                                 3.20.3\npsutil                                   5.9.3\nptyprocess                               0.7.0\npudb                                     2024.1\nPuLP                                     2.8.0\npure-eval                                0.2.2\npy-cpuinfo                               9.0.0\npy-spy                                   0.3.14\npy4j                                     0.10.9.7\npyaml                                    23.12.0\nPyArabic                                 0.6.15\npyarrow                                  15.0.2\npyarrow-hotfix                           0.6\npyasn1                                   0.5.1\npyasn1-modules                           0.3.0\npybind11                                 2.12.0\npyclipper                                1.3.0.post5\npycodestyle                              2.11.1\npycosat                                  0.6.6\npycparser                                2.21\npycryptodome                             3.20.0\npyct                                     0.5.0\npydantic                                 2.5.3\npydantic_core                            2.14.6\npydegensac                               0.1.2\npydicom                                  2.4.4\npydocstyle                               6.3.0\npydot                                    1.4.2\npydub                                    0.25.1\npyemd                                    1.0.0\npyerfa                                   2.0.1.4\npyexcel-io                               0.6.6\npyexcel-ods                              0.6.0\npyflakes                                 3.2.0\npygltflib                                1.16.2\nPygments                                 2.17.2\nPyJWT                                    2.8.0\npykalman                                 0.9.7\npyLDAvis                                 3.4.1\npylint                                   3.1.0\npymc3                                    3.11.4\nPyMeeus                                  0.5.12\npymongo                                  3.13.0\nPympler                                  1.0.1\npynndescent                              0.5.12\npyOpenSSL                                23.3.0\npyparsing                                3.1.1\npypdf                                    4.2.0\npyproj                                   3.6.1\npysal                                    24.1\npyshp                                    2.3.1\nPySocks                                  1.7.1\npytesseract                              0.3.10\npytest                                   8.1.1\npython-bidi                              0.4.2\npython-dateutil                          2.9.0.post0\npython-dotenv                            1.0.0\npython-json-logger                       2.0.7\npython-louvain                           0.16\npython-lsp-jsonrpc                       1.1.2\npython-lsp-server                        1.11.0\npython-slugify                           8.0.4\npython-utils                             3.8.2\npythreejs                                2.4.2\npytoolconfig                             1.3.1\npytorch-ignite                           0.5.0.post2\npytorch-lightning                        2.2.2\npytz                                     2023.3.post1\npyu2f                                    0.1.5\nPyUpSet                                  0.1.1.post7\npyviz_comms                              3.0.2\nPyWavelets                               1.5.0\nPyYAML                                   6.0.1\npyzmq                                    24.0.1\nqgrid                                    1.3.1\nqtconsole                                5.5.1\nQtPy                                     2.4.1\nquantecon                                0.7.2\nqudida                                   0.0.4\nrasterio                                 1.3.10\nrasterstats                              0.19.0\nray                                      2.9.0\nray-cpp                                  2.9.0\nreferencing                              0.32.1\nregex                                    2023.12.25\nrequests                                 2.31.0\nrequests-oauthlib                        1.3.1\nrequests-toolbelt                        0.10.1\nretrying                                 1.3.3\nrfc3339-validator                        0.1.4\nrfc3986-validator                        0.1.1\nrgf-python                               3.12.0\nrich                                     13.7.0\nrich-click                               1.7.4\nrope                                     1.13.0\nrpds-py                                  0.16.2\nrsa                                      4.9\nRtree                                    1.2.0\nruamel.yaml                              0.18.5\nruamel.yaml.clib                         0.2.7\nruamel-yaml-conda                        0.15.100\ns2sphere                                 0.2.5\ns3fs                                     2024.2.0\ns3transfer                               0.6.2\nsafetensors                              0.4.3\nscattertext                              0.1.19\nscikit-image                             0.22.0\nscikit-learn                             1.2.2\nscikit-learn-intelex                     2024.3.0\nscikit-multilearn                        0.2.0\nscikit-optimize                          0.10.1\nscikit-plot                              0.3.7\nscikit-surprise                          1.1.3\nscipy                                    1.11.4\nseaborn                                  0.12.2\nSecretStorage                            3.3.3\nsegment_anything                         1.0\nsegregation                              2.5\nsemver                                   3.0.2\nSend2Trash                               1.8.2\nsentencepiece                            0.2.0\nsentry-sdk                               1.45.0\nsetproctitle                             1.3.3\nsetuptools                               69.0.3\nsetuptools-git                           1.2\nsetuptools-scm                           8.0.4\nshap                                     0.44.1\nShapely                                  1.8.5.post1\nShimmy                                   1.3.0\nsimpervisor                              1.0.0\nSimpleITK                                2.3.1\nsimplejson                               3.19.2\nsix                                      1.16.0\nsklearn-pandas                           2.2.0\nslicer                                   0.0.7\nsmart-open                               6.4.0\nsmmap                                    5.0.1\nsniffio                                  1.3.0\nsnowballstemmer                          2.2.0\nsnuggs                                   1.4.7\nsoundfile                                0.12.1\nsoupsieve                                2.5\nsoxr                                     0.3.7\nspacy                                    3.7.4\nspacy-legacy                             3.0.12\nspacy-loggers                            1.0.5\nspaghetti                                1.7.5.post1\nspectral                                 0.23.1\nspglm                                    1.1.0\nsphinx-rtd-theme                         0.2.4\nspint                                    1.0.7\nsplot                                    1.1.5.post1\nspopt                                    0.6.0\nspreg                                    1.4.2\nspvcm                                    0.3.0\nSQLAlchemy                               2.0.25\nsqlparse                                 0.4.4\nsquarify                                 0.4.3\nsrsly                                    2.4.8\nstable-baselines3                        2.1.0\nstack-data                               0.6.2\nstanio                                   0.5.0\nstarlette                                0.32.0.post1\nstatsmodels                              0.14.1\nstemming                                 1.0.1\nstop-words                               2018.7.23\nstopit                                   1.1.2\nstumpy                                   1.12.0\nsympy                                    1.12\ntables                                   3.9.2\ntabulate                                 0.9.0\ntangled-up-in-unicode                    0.2.0\ntbb                                      2021.12.0\ntenacity                                 8.2.3\ntensorboard                              2.15.1\ntensorboard-data-server                  0.7.2\ntensorboard-plugin-profile               2.15.0\ntensorboardX                             2.6.2.2\ntensorflow                               2.15.0\ntensorflow-cloud                         0.1.16\ntensorflow-datasets                      4.9.4\ntensorflow-decision-forests              1.8.1\ntensorflow-estimator                     2.15.0\ntensorflow-hub                           0.16.1\ntensorflow-io                            0.35.0\ntensorflow-io-gcs-filesystem             0.35.0\ntensorflow-metadata                      0.14.0\ntensorflow-probability                   0.23.0\ntensorflow-serving-api                   2.14.1\ntensorflow-text                          2.15.0\ntensorflow-transform                     0.14.0\ntensorstore                              0.1.56\ntermcolor                                2.4.0\nterminado                                0.18.0\ntestpath                                 0.6.0\ntext-unidecode                           1.3\ntextblob                                 0.18.0.post0\ntexttable                                1.7.0\ntf_keras                                 2.15.1\ntfp-nightly                              0.24.0.dev0\nTheano                                   1.0.5\nTheano-PyMC                              1.1.2\nthinc                                    8.2.3\nthreadpoolctl                            3.2.0\ntifffile                                 2023.12.9\ntimm                                     0.9.16\ntinycss2                                 1.2.1\ntobler                                   0.11.2\ntokenizers                               0.15.2\ntoml                                     0.10.2\ntomli                                    2.0.1\ntomlkit                                  0.12.4\ntoolz                                    0.12.1\ntorch                                    2.1.2+cpu\ntorchaudio                               2.1.2+cpu\ntorchdata                                0.7.1\ntorchinfo                                1.8.0\ntorchmetrics                             1.3.2\ntorchtext                                0.16.2+cpu\ntorchvision                              0.16.2+cpu\ntornado                                  6.3.3\nTPOT                                     0.12.1\ntqdm                                     4.66.1\ntraceml                                  1.0.8\ntraitlets                                5.9.0\ntraittypes                               0.2.1\ntransformers                             4.39.3\ntruststore                               0.8.0\ntrx-python                               0.2.9\ntsfresh                                  0.20.2\ntypeguard                                4.1.5\ntyper                                    0.9.0\ntypes-python-dateutil                    2.8.19.20240106\ntyping_extensions                        4.9.0\ntyping-inspect                           0.9.0\ntyping-utils                             0.1.0\ntzdata                                   2023.4\nuc-micro-py                              1.0.3\nujson                                    5.9.0\numap-learn                               0.5.6\nunicodedata2                             15.1.0\nupdate-checker                           0.18.0\nuri-template                             1.3.0\nuritemplate                              3.0.1\nurllib3                                  1.26.18\nurwid                                    2.6.10\nurwid_readline                           0.14\nuvicorn                                  0.25.0\nuvloop                                   0.19.0\nvaex                                     4.17.0\nvaex-astro                               0.9.3\nvaex-core                                4.17.1\nvaex-hdf5                                0.14.1\nvaex-jupyter                             0.8.2\nvaex-ml                                  0.18.3\nvaex-server                              0.9.0\nvaex-viz                                 0.5.4\nvec_noise                                1.1.4\nvecstack                                 0.4.0\nvirtualenv                               20.21.0\nvisions                                  0.7.5\nvowpalwabbit                             9.9.0\nvtk                                      9.3.0\nWand                                     0.6.13\nwandb                                    0.16.6\nwasabi                                   1.1.2\nwatchfiles                               0.21.0\nwavio                                    0.0.8\nwcwidth                                  0.2.13\nweasel                                   0.3.4\nwebcolors                                1.13\nwebencodings                             0.5.1\nwebsocket-client                         1.7.0\nwebsockets                               12.0\nWerkzeug                                 3.0.2\nwfdb                                     4.1.2\nwhatthepatch                             1.0.5\nwheel                                    0.42.0\nwidgetsnbextension                       3.6.6\nwitwidget                                1.8.1\nwoodwork                                 0.30.0\nwordcloud                                1.9.3\nwordsegment                              1.3.1\nwrapt                                    1.14.1\nxarray                                   2024.3.0\nxarray-einstats                          0.7.0\nxgboost                                  2.0.3\nxvfbwrapper                              0.2.9\nxxhash                                   3.4.1\nxyzservices                              2024.4.0\ny-py                                     0.6.2\nyapf                                     0.40.2\nyarl                                     1.9.3\nydata-profiling                          4.6.4\nyellowbrick                              1.5\nypy-websocket                            0.8.4\nzipp                                     3.17.0\nzstandard                                0.22.0\n",
          "output_type": "stream"
        }
      ],
      "id": "FjnGSOpZNwPo"
    },
    {
      "cell_type": "code",
      "source": [
        "!pip install opencv-python matplotlib imageio gdown tensorflow"
      ],
      "metadata": {
        "tags": [],
        "execution": {
          "iopub.status.busy": "2024-05-10T19:01:08.280514Z",
          "iopub.execute_input": "2024-05-10T19:01:08.281159Z",
          "iopub.status.idle": "2024-05-10T19:01:22.979522Z",
          "shell.execute_reply.started": "2024-05-10T19:01:08.281105Z",
          "shell.execute_reply": "2024-05-10T19:01:22.978340Z"
        },
        "trusted": true,
        "id": "KODTj4ocNwPq",
        "outputId": "f4075d97-ce4a-418d-8bed-3034d6fd7b10"
      },
      "execution_count": null,
      "outputs": [
        {
          "name": "stdout",
          "text": "Requirement already satisfied: opencv-python in /opt/conda/lib/python3.10/site-packages (4.9.0.80)\nRequirement already satisfied: matplotlib in /opt/conda/lib/python3.10/site-packages (3.7.5)\nRequirement already satisfied: imageio in /opt/conda/lib/python3.10/site-packages (2.33.1)\nCollecting gdown\n  Downloading gdown-5.1.0-py3-none-any.whl.metadata (5.7 kB)\nRequirement already satisfied: tensorflow in /opt/conda/lib/python3.10/site-packages (2.15.0)\nRequirement already satisfied: numpy>=1.21.2 in /opt/conda/lib/python3.10/site-packages (from opencv-python) (1.26.4)\nRequirement already satisfied: contourpy>=1.0.1 in /opt/conda/lib/python3.10/site-packages (from matplotlib) (1.2.0)\nRequirement already satisfied: cycler>=0.10 in /opt/conda/lib/python3.10/site-packages (from matplotlib) (0.12.1)\nRequirement already satisfied: fonttools>=4.22.0 in /opt/conda/lib/python3.10/site-packages (from matplotlib) (4.47.0)\nRequirement already satisfied: kiwisolver>=1.0.1 in /opt/conda/lib/python3.10/site-packages (from matplotlib) (1.4.5)\nRequirement already satisfied: packaging>=20.0 in /opt/conda/lib/python3.10/site-packages (from matplotlib) (21.3)\nRequirement already satisfied: pillow>=6.2.0 in /opt/conda/lib/python3.10/site-packages (from matplotlib) (9.5.0)\nRequirement already satisfied: pyparsing>=2.3.1 in /opt/conda/lib/python3.10/site-packages (from matplotlib) (3.1.1)\nRequirement already satisfied: python-dateutil>=2.7 in /opt/conda/lib/python3.10/site-packages (from matplotlib) (2.9.0.post0)\nRequirement already satisfied: beautifulsoup4 in /opt/conda/lib/python3.10/site-packages (from gdown) (4.12.2)\nRequirement already satisfied: filelock in /opt/conda/lib/python3.10/site-packages (from gdown) (3.13.1)\nRequirement already satisfied: requests[socks] in /opt/conda/lib/python3.10/site-packages (from gdown) (2.31.0)\nRequirement already satisfied: tqdm in /opt/conda/lib/python3.10/site-packages (from gdown) (4.66.1)\nRequirement already satisfied: absl-py>=1.0.0 in /opt/conda/lib/python3.10/site-packages (from tensorflow) (1.4.0)\nRequirement already satisfied: astunparse>=1.6.0 in /opt/conda/lib/python3.10/site-packages (from tensorflow) (1.6.3)\nRequirement already satisfied: flatbuffers>=23.5.26 in /opt/conda/lib/python3.10/site-packages (from tensorflow) (23.5.26)\nRequirement already satisfied: gast!=0.5.0,!=0.5.1,!=0.5.2,>=0.2.1 in /opt/conda/lib/python3.10/site-packages (from tensorflow) (0.5.4)\nRequirement already satisfied: google-pasta>=0.1.1 in /opt/conda/lib/python3.10/site-packages (from tensorflow) (0.2.0)\nRequirement already satisfied: h5py>=2.9.0 in /opt/conda/lib/python3.10/site-packages (from tensorflow) (3.10.0)\nRequirement already satisfied: libclang>=13.0.0 in /opt/conda/lib/python3.10/site-packages (from tensorflow) (16.0.6)\nRequirement already satisfied: ml-dtypes~=0.2.0 in /opt/conda/lib/python3.10/site-packages (from tensorflow) (0.2.0)\nRequirement already satisfied: opt-einsum>=2.3.2 in /opt/conda/lib/python3.10/site-packages (from tensorflow) (3.3.0)\nRequirement already satisfied: protobuf!=4.21.0,!=4.21.1,!=4.21.2,!=4.21.3,!=4.21.4,!=4.21.5,<5.0.0dev,>=3.20.3 in /opt/conda/lib/python3.10/site-packages (from tensorflow) (3.20.3)\nRequirement already satisfied: setuptools in /opt/conda/lib/python3.10/site-packages (from tensorflow) (69.0.3)\nRequirement already satisfied: six>=1.12.0 in /opt/conda/lib/python3.10/site-packages (from tensorflow) (1.16.0)\nRequirement already satisfied: termcolor>=1.1.0 in /opt/conda/lib/python3.10/site-packages (from tensorflow) (2.4.0)\nRequirement already satisfied: typing-extensions>=3.6.6 in /opt/conda/lib/python3.10/site-packages (from tensorflow) (4.9.0)\nRequirement already satisfied: wrapt<1.15,>=1.11.0 in /opt/conda/lib/python3.10/site-packages (from tensorflow) (1.14.1)\nRequirement already satisfied: tensorflow-io-gcs-filesystem>=0.23.1 in /opt/conda/lib/python3.10/site-packages (from tensorflow) (0.35.0)\nRequirement already satisfied: grpcio<2.0,>=1.24.3 in /opt/conda/lib/python3.10/site-packages (from tensorflow) (1.60.0)\nRequirement already satisfied: tensorboard<2.16,>=2.15 in /opt/conda/lib/python3.10/site-packages (from tensorflow) (2.15.1)\nRequirement already satisfied: tensorflow-estimator<2.16,>=2.15.0 in /opt/conda/lib/python3.10/site-packages (from tensorflow) (2.15.0)\nCollecting keras<2.16,>=2.15.0 (from tensorflow)\n  Downloading keras-2.15.0-py3-none-any.whl.metadata (2.4 kB)\nRequirement already satisfied: wheel<1.0,>=0.23.0 in /opt/conda/lib/python3.10/site-packages (from astunparse>=1.6.0->tensorflow) (0.42.0)\nRequirement already satisfied: google-auth<3,>=1.6.3 in /opt/conda/lib/python3.10/site-packages (from tensorboard<2.16,>=2.15->tensorflow) (2.26.1)\nRequirement already satisfied: google-auth-oauthlib<2,>=0.5 in /opt/conda/lib/python3.10/site-packages (from tensorboard<2.16,>=2.15->tensorflow) (1.2.0)\nRequirement already satisfied: markdown>=2.6.8 in /opt/conda/lib/python3.10/site-packages (from tensorboard<2.16,>=2.15->tensorflow) (3.5.2)\nRequirement already satisfied: tensorboard-data-server<0.8.0,>=0.7.0 in /opt/conda/lib/python3.10/site-packages (from tensorboard<2.16,>=2.15->tensorflow) (0.7.2)\nRequirement already satisfied: werkzeug>=1.0.1 in /opt/conda/lib/python3.10/site-packages (from tensorboard<2.16,>=2.15->tensorflow) (3.0.2)\nRequirement already satisfied: soupsieve>1.2 in /opt/conda/lib/python3.10/site-packages (from beautifulsoup4->gdown) (2.5)\nRequirement already satisfied: charset-normalizer<4,>=2 in /opt/conda/lib/python3.10/site-packages (from requests[socks]->gdown) (3.3.2)\nRequirement already satisfied: idna<4,>=2.5 in /opt/conda/lib/python3.10/site-packages (from requests[socks]->gdown) (3.6)\nRequirement already satisfied: urllib3<3,>=1.21.1 in /opt/conda/lib/python3.10/site-packages (from requests[socks]->gdown) (1.26.18)\nRequirement already satisfied: certifi>=2017.4.17 in /opt/conda/lib/python3.10/site-packages (from requests[socks]->gdown) (2024.2.2)\nRequirement already satisfied: PySocks!=1.5.7,>=1.5.6 in /opt/conda/lib/python3.10/site-packages (from requests[socks]->gdown) (1.7.1)\nRequirement already satisfied: cachetools<6.0,>=2.0.0 in /opt/conda/lib/python3.10/site-packages (from google-auth<3,>=1.6.3->tensorboard<2.16,>=2.15->tensorflow) (4.2.4)\nRequirement already satisfied: pyasn1-modules>=0.2.1 in /opt/conda/lib/python3.10/site-packages (from google-auth<3,>=1.6.3->tensorboard<2.16,>=2.15->tensorflow) (0.3.0)\nRequirement already satisfied: rsa<5,>=3.1.4 in /opt/conda/lib/python3.10/site-packages (from google-auth<3,>=1.6.3->tensorboard<2.16,>=2.15->tensorflow) (4.9)\nRequirement already satisfied: requests-oauthlib>=0.7.0 in /opt/conda/lib/python3.10/site-packages (from google-auth-oauthlib<2,>=0.5->tensorboard<2.16,>=2.15->tensorflow) (1.3.1)\nRequirement already satisfied: MarkupSafe>=2.1.1 in /opt/conda/lib/python3.10/site-packages (from werkzeug>=1.0.1->tensorboard<2.16,>=2.15->tensorflow) (2.1.3)\nRequirement already satisfied: pyasn1<0.6.0,>=0.4.6 in /opt/conda/lib/python3.10/site-packages (from pyasn1-modules>=0.2.1->google-auth<3,>=1.6.3->tensorboard<2.16,>=2.15->tensorflow) (0.5.1)\nRequirement already satisfied: oauthlib>=3.0.0 in /opt/conda/lib/python3.10/site-packages (from requests-oauthlib>=0.7.0->google-auth-oauthlib<2,>=0.5->tensorboard<2.16,>=2.15->tensorflow) (3.2.2)\nDownloading gdown-5.1.0-py3-none-any.whl (17 kB)\nDownloading keras-2.15.0-py3-none-any.whl (1.7 MB)\n\u001b[2K   \u001b[90m━━━━━━━━━━━━━━━━━━━━━━━━━━━━━━━━━━━━━━━━\u001b[0m \u001b[32m1.7/1.7 MB\u001b[0m \u001b[31m20.6 MB/s\u001b[0m eta \u001b[36m0:00:00\u001b[0m00:01\u001b[0m0:01\u001b[0m\n\u001b[?25hInstalling collected packages: keras, gdown\n  Attempting uninstall: keras\n    Found existing installation: keras 3.2.1\n    Uninstalling keras-3.2.1:\n      Successfully uninstalled keras-3.2.1\n\u001b[31mERROR: pip's dependency resolver does not currently take into account all the packages that are installed. This behaviour is the source of the following dependency conflicts.\ntensorflow-decision-forests 1.8.1 requires wurlitzer, which is not installed.\u001b[0m\u001b[31m\n\u001b[0mSuccessfully installed gdown-5.1.0 keras-2.15.0\n",
          "output_type": "stream"
        }
      ],
      "id": "KODTj4ocNwPq"
    },
    {
      "cell_type": "code",
      "source": [
        "import os\n",
        "import cv2\n",
        "import tensorflow as tf\n",
        "import numpy as np\n",
        "from typing import List\n",
        "from matplotlib import pyplot as plt\n",
        "import imageio"
      ],
      "metadata": {
        "tags": [],
        "execution": {
          "iopub.status.busy": "2024-05-10T19:02:52.837212Z",
          "iopub.execute_input": "2024-05-10T19:02:52.837614Z",
          "iopub.status.idle": "2024-05-10T19:03:05.089946Z",
          "shell.execute_reply.started": "2024-05-10T19:02:52.837578Z",
          "shell.execute_reply": "2024-05-10T19:03:05.089011Z"
        },
        "trusted": true,
        "id": "vIESNB9qNwPr"
      },
      "execution_count": null,
      "outputs": [],
      "id": "vIESNB9qNwPr"
    },
    {
      "cell_type": "code",
      "source": [
        "tf.config.list_physical_devices('GPU')"
      ],
      "metadata": {
        "colab": {
          "base_uri": "https://localhost:8080/"
        },
        "id": "kdcbitrBNwPr",
        "outputId": "a323a9f6-b293-4664-a8ef-267843f8b566"
      },
      "execution_count": null,
      "outputs": [
        {
          "output_type": "execute_result",
          "data": {
            "text/plain": [
              "[PhysicalDevice(name='/physical_device:GPU:0', device_type='GPU')]"
            ]
          },
          "metadata": {},
          "execution_count": 2
        }
      ],
      "id": "kdcbitrBNwPr"
    },
    {
      "cell_type": "code",
      "source": [
        "physical_devices = tf.config.list_physical_devices('GPU')\n",
        "try:\n",
        "    tf.config.experimental.set_memory_growth(physical_devices[0], True)\n",
        "except:\n",
        "    pass"
      ],
      "metadata": {
        "tags": [],
        "id": "butuzHpmNwPr"
      },
      "execution_count": null,
      "outputs": [],
      "id": "butuzHpmNwPr"
    },
    {
      "cell_type": "markdown",
      "source": [
        "# 1. Build Data Loading Functions"
      ],
      "metadata": {
        "tags": [],
        "id": "sNov9Ie4NwPs"
      },
      "id": "sNov9Ie4NwPs"
    },
    {
      "cell_type": "code",
      "source": [
        "import gdown"
      ],
      "metadata": {
        "tags": [],
        "execution": {
          "iopub.status.busy": "2024-05-10T19:03:36.024152Z",
          "iopub.execute_input": "2024-05-10T19:03:36.024962Z",
          "iopub.status.idle": "2024-05-10T19:03:36.208840Z",
          "shell.execute_reply.started": "2024-05-10T19:03:36.024922Z",
          "shell.execute_reply": "2024-05-10T19:03:36.207893Z"
        },
        "trusted": true,
        "id": "qpxXUlbGNwPs"
      },
      "execution_count": null,
      "outputs": [],
      "id": "qpxXUlbGNwPs"
    },
    {
      "cell_type": "code",
      "source": [
        "url = 'https://drive.google.com/uc?id=1YlvpDLix3S-U8fd-gqRwPcWXAXm8JwjL'\n",
        "output = 'data.zip'\n",
        "gdown.download(url, output, quiet=False)\n",
        "gdown.extractall('data.zip')"
      ],
      "metadata": {
        "tags": [],
        "execution": {
          "iopub.status.busy": "2024-05-10T19:03:45.293858Z",
          "iopub.execute_input": "2024-05-10T19:03:45.294835Z",
          "iopub.status.idle": "2024-05-10T19:03:54.128001Z",
          "shell.execute_reply.started": "2024-05-10T19:03:45.294791Z",
          "shell.execute_reply": "2024-05-10T19:03:54.126872Z"
        },
        "trusted": true,
        "colab": {
          "base_uri": "https://localhost:8080/"
        },
        "id": "EVazaoUSNwPs",
        "outputId": "5d9b99af-432b-4343-c94a-28388288edf0"
      },
      "execution_count": null,
      "outputs": [
        {
          "output_type": "stream",
          "name": "stderr",
          "text": [
            "Downloading...\n",
            "From (original): https://drive.google.com/uc?id=1YlvpDLix3S-U8fd-gqRwPcWXAXm8JwjL\n",
            "From (redirected): https://drive.google.com/uc?id=1YlvpDLix3S-U8fd-gqRwPcWXAXm8JwjL&confirm=t&uuid=05ac82e2-5f7c-4999-a21f-a89549753d64\n",
            "To: /content/data.zip\n",
            "100%|██████████| 423M/423M [00:05<00:00, 72.3MB/s]\n"
          ]
        },
        {
          "output_type": "execute_result",
          "data": {
            "text/plain": [
              "['data/',\n",
              " 'data/alignments/',\n",
              " 'data/alignments/s1/',\n",
              " 'data/alignments/s1/bbaf2n.align',\n",
              " 'data/alignments/s1/bbaf3s.align',\n",
              " 'data/alignments/s1/bbaf4p.align',\n",
              " 'data/alignments/s1/bbaf5a.align',\n",
              " 'data/alignments/s1/bbal6n.align',\n",
              " 'data/alignments/s1/bbal7s.align',\n",
              " 'data/alignments/s1/bbal8p.align',\n",
              " 'data/alignments/s1/bbal9a.align',\n",
              " 'data/alignments/s1/bbas1s.align',\n",
              " 'data/alignments/s1/bbas2p.align',\n",
              " 'data/alignments/s1/bbas3a.align',\n",
              " 'data/alignments/s1/bbaszn.align',\n",
              " 'data/alignments/s1/bbaz4n.align',\n",
              " 'data/alignments/s1/bbaz5s.align',\n",
              " 'data/alignments/s1/bbaz6p.align',\n",
              " 'data/alignments/s1/bbaz7a.align',\n",
              " 'data/alignments/s1/bbbf6n.align',\n",
              " 'data/alignments/s1/bbbf7s.align',\n",
              " 'data/alignments/s1/bbbf8p.align',\n",
              " 'data/alignments/s1/bbbf9a.align',\n",
              " 'data/alignments/s1/bbbm1s.align',\n",
              " 'data/alignments/s1/bbbm2p.align',\n",
              " 'data/alignments/s1/bbbm3a.align',\n",
              " 'data/alignments/s1/bbbmzn.align',\n",
              " 'data/alignments/s1/bbbs4n.align',\n",
              " 'data/alignments/s1/bbbs5s.align',\n",
              " 'data/alignments/s1/bbbs6p.align',\n",
              " 'data/alignments/s1/bbbs7a.align',\n",
              " 'data/alignments/s1/bbbz8n.align',\n",
              " 'data/alignments/s1/bbbz9s.align',\n",
              " 'data/alignments/s1/bbie8n.align',\n",
              " 'data/alignments/s1/bbie9s.align',\n",
              " 'data/alignments/s1/bbif1a.align',\n",
              " 'data/alignments/s1/bbifzp.align',\n",
              " 'data/alignments/s1/bbil2n.align',\n",
              " 'data/alignments/s1/bbil3s.align',\n",
              " 'data/alignments/s1/bbil4p.align',\n",
              " 'data/alignments/s1/bbil5a.align',\n",
              " 'data/alignments/s1/bbir6n.align',\n",
              " 'data/alignments/s1/bbir7s.align',\n",
              " 'data/alignments/s1/bbir8p.align',\n",
              " 'data/alignments/s1/bbir9a.align',\n",
              " 'data/alignments/s1/bbiz1s.align',\n",
              " 'data/alignments/s1/bbiz2p.align',\n",
              " 'data/alignments/s1/bbiz3a.align',\n",
              " 'data/alignments/s1/bbizzn.align',\n",
              " 'data/alignments/s1/bbwg1s.align',\n",
              " 'data/alignments/s1/bbwg2p.align',\n",
              " 'data/alignments/s1/bbwg3a.align',\n",
              " 'data/alignments/s1/bbwgzn.align',\n",
              " 'data/alignments/s1/bbwm4n.align',\n",
              " 'data/alignments/s1/bbwm5s.align',\n",
              " 'data/alignments/s1/bbwm6p.align',\n",
              " 'data/alignments/s1/bbwm7a.align',\n",
              " 'data/alignments/s1/bbws8n.align',\n",
              " 'data/alignments/s1/bbws9s.align',\n",
              " 'data/alignments/s1/bbwt1a.align',\n",
              " 'data/alignments/s1/bbwtzp.align',\n",
              " 'data/alignments/s1/bgaa6n.align',\n",
              " 'data/alignments/s1/bgaa7s.align',\n",
              " 'data/alignments/s1/bgaa8p.align',\n",
              " 'data/alignments/s1/bgaa9a.align',\n",
              " 'data/alignments/s1/bgah1s.align',\n",
              " 'data/alignments/s1/bgah2p.align',\n",
              " 'data/alignments/s1/bgah3a.align',\n",
              " 'data/alignments/s1/bgahzn.align',\n",
              " 'data/alignments/s1/bgan4n.align',\n",
              " 'data/alignments/s1/bgan5s.align',\n",
              " 'data/alignments/s1/bgan6p.align',\n",
              " 'data/alignments/s1/bgan7a.align',\n",
              " 'data/alignments/s1/bgat8n.align',\n",
              " 'data/alignments/s1/bgat9s.align',\n",
              " 'data/alignments/s1/bgau1a.align',\n",
              " 'data/alignments/s1/bgauzp.align',\n",
              " 'data/alignments/s1/bgbb1s.align',\n",
              " 'data/alignments/s1/bgbb2p.align',\n",
              " 'data/alignments/s1/bgbb3a.align',\n",
              " 'data/alignments/s1/bgbbzn.align',\n",
              " 'data/alignments/s1/bgbh4n.align',\n",
              " 'data/alignments/s1/bgbh5s.align',\n",
              " 'data/alignments/s1/bgbh6p.align',\n",
              " 'data/alignments/s1/bgbh7a.align',\n",
              " 'data/alignments/s1/bgbn8n.align',\n",
              " 'data/alignments/s1/bgbn9s.align',\n",
              " 'data/alignments/s1/bgbo1a.align',\n",
              " 'data/alignments/s1/bgbozp.align',\n",
              " 'data/alignments/s1/bgbu2n.align',\n",
              " 'data/alignments/s1/bgbu3s.align',\n",
              " 'data/alignments/s1/bgbu4p.align',\n",
              " 'data/alignments/s1/bgbu5a.align',\n",
              " 'data/alignments/s1/bgia2n.align',\n",
              " 'data/alignments/s1/bgia3s.align',\n",
              " 'data/alignments/s1/bgia4p.align',\n",
              " 'data/alignments/s1/bgia5a.align',\n",
              " 'data/alignments/s1/bgig6n.align',\n",
              " 'data/alignments/s1/bgig7s.align',\n",
              " 'data/alignments/s1/bgig8p.align',\n",
              " 'data/alignments/s1/bgig9a.align',\n",
              " 'data/alignments/s1/bgin1s.align',\n",
              " 'data/alignments/s1/bgin2p.align',\n",
              " 'data/alignments/s1/bgin3a.align',\n",
              " 'data/alignments/s1/bginzn.align',\n",
              " 'data/alignments/s1/bgit4n.align',\n",
              " 'data/alignments/s1/bgit5s.align',\n",
              " 'data/alignments/s1/bgit6p.align',\n",
              " 'data/alignments/s1/bgit7a.align',\n",
              " 'data/alignments/s1/bgwb4n.align',\n",
              " 'data/alignments/s1/bgwb5s.align',\n",
              " 'data/alignments/s1/bgwb6p.align',\n",
              " 'data/alignments/s1/bgwb7a.align',\n",
              " 'data/alignments/s1/bgwh8n.align',\n",
              " 'data/alignments/s1/bgwh9s.align',\n",
              " 'data/alignments/s1/bgwi1a.align',\n",
              " 'data/alignments/s1/bgwizp.align',\n",
              " 'data/alignments/s1/bgwo2n.align',\n",
              " 'data/alignments/s1/bgwo3s.align',\n",
              " 'data/alignments/s1/bgwo4p.align',\n",
              " 'data/alignments/s1/bgwo5a.align',\n",
              " 'data/alignments/s1/bgwu6n.align',\n",
              " 'data/alignments/s1/bgwu7s.align',\n",
              " 'data/alignments/s1/bgwu8p.align',\n",
              " 'data/alignments/s1/bgwu9a.align',\n",
              " 'data/alignments/s1/braf8n.align',\n",
              " 'data/alignments/s1/braf9s.align',\n",
              " 'data/alignments/s1/brag1a.align',\n",
              " 'data/alignments/s1/bragzp.align',\n",
              " 'data/alignments/s1/bram2n.align',\n",
              " 'data/alignments/s1/bram3s.align',\n",
              " 'data/alignments/s1/bram4p.align',\n",
              " 'data/alignments/s1/bram5a.align',\n",
              " 'data/alignments/s1/bras6n.align',\n",
              " 'data/alignments/s1/bras7s.align',\n",
              " 'data/alignments/s1/bras8p.align',\n",
              " 'data/alignments/s1/bras9a.align',\n",
              " 'data/alignments/s1/brba1a.align',\n",
              " 'data/alignments/s1/brbazp.align',\n",
              " 'data/alignments/s1/brbg2n.align',\n",
              " 'data/alignments/s1/brbg3s.align',\n",
              " 'data/alignments/s1/brbg4p.align',\n",
              " 'data/alignments/s1/brbg5a.align',\n",
              " 'data/alignments/s1/brbm6n.align',\n",
              " 'data/alignments/s1/brbm7s.align',\n",
              " 'data/alignments/s1/brbm8p.align',\n",
              " 'data/alignments/s1/brbm9a.align',\n",
              " 'data/alignments/s1/brbt1s.align',\n",
              " 'data/alignments/s1/brbt2p.align',\n",
              " 'data/alignments/s1/brbt3a.align',\n",
              " 'data/alignments/s1/brbtzn.align',\n",
              " 'data/alignments/s1/brif4n.align',\n",
              " 'data/alignments/s1/brif5s.align',\n",
              " 'data/alignments/s1/brif6p.align',\n",
              " 'data/alignments/s1/brif7a.align',\n",
              " 'data/alignments/s1/bril8n.align',\n",
              " 'data/alignments/s1/bril9s.align',\n",
              " 'data/alignments/s1/brim1a.align',\n",
              " 'data/alignments/s1/brimzp.align',\n",
              " 'data/alignments/s1/bris2n.align',\n",
              " 'data/alignments/s1/bris3s.align',\n",
              " 'data/alignments/s1/bris4p.align',\n",
              " 'data/alignments/s1/bris5a.align',\n",
              " 'data/alignments/s1/briz6n.align',\n",
              " 'data/alignments/s1/briz7s.align',\n",
              " 'data/alignments/s1/briz8p.align',\n",
              " 'data/alignments/s1/briz9a.align',\n",
              " 'data/alignments/s1/brwa2n.align',\n",
              " 'data/alignments/s1/brwa3s.align',\n",
              " 'data/alignments/s1/brwa4p.align',\n",
              " 'data/alignments/s1/brwa5a.align',\n",
              " 'data/alignments/s1/brwg6n.align',\n",
              " 'data/alignments/s1/brwg7s.align',\n",
              " 'data/alignments/s1/brwg8p.align',\n",
              " 'data/alignments/s1/brwg9a.align',\n",
              " 'data/alignments/s1/brwn1s.align',\n",
              " 'data/alignments/s1/brwn2p.align',\n",
              " 'data/alignments/s1/brwn3a.align',\n",
              " 'data/alignments/s1/brwnzn.align',\n",
              " 'data/alignments/s1/brwt4n.align',\n",
              " 'data/alignments/s1/brwt5s.align',\n",
              " 'data/alignments/s1/brwt6p.align',\n",
              " 'data/alignments/s1/brwt7a.align',\n",
              " 'data/alignments/s1/bwaa1s.align',\n",
              " 'data/alignments/s1/bwaa2p.align',\n",
              " 'data/alignments/s1/bwaa3a.align',\n",
              " 'data/alignments/s1/bwaazn.align',\n",
              " 'data/alignments/s1/bwag4n.align',\n",
              " 'data/alignments/s1/bwag5s.align',\n",
              " 'data/alignments/s1/bwag6p.align',\n",
              " 'data/alignments/s1/bwag7a.align',\n",
              " 'data/alignments/s1/bwam8n.align',\n",
              " 'data/alignments/s1/bwam9s.align',\n",
              " 'data/alignments/s1/bwan1a.align',\n",
              " 'data/alignments/s1/bwanzp.align',\n",
              " 'data/alignments/s1/bwat2n.align',\n",
              " 'data/alignments/s1/bwat3s.align',\n",
              " 'data/alignments/s1/bwat4p.align',\n",
              " 'data/alignments/s1/bwat5a.align',\n",
              " 'data/alignments/s1/bwba4n.align',\n",
              " 'data/alignments/s1/bwba5s.align',\n",
              " 'data/alignments/s1/bwba6p.align',\n",
              " 'data/alignments/s1/bwba7a.align',\n",
              " 'data/alignments/s1/bwbg8n.align',\n",
              " 'data/alignments/s1/bwbg9s.align',\n",
              " 'data/alignments/s1/bwbh1a.align',\n",
              " 'data/alignments/s1/bwbhzp.align',\n",
              " 'data/alignments/s1/bwbn2n.align',\n",
              " 'data/alignments/s1/bwbn3s.align',\n",
              " 'data/alignments/s1/bwbn4p.align',\n",
              " 'data/alignments/s1/bwbn5a.align',\n",
              " 'data/alignments/s1/bwbt6n.align',\n",
              " 'data/alignments/s1/bwbt7s.align',\n",
              " 'data/alignments/s1/bwbt8p.align',\n",
              " 'data/alignments/s1/bwbt9a.align',\n",
              " 'data/alignments/s1/bwig1s.align',\n",
              " 'data/alignments/s1/bwig2p.align',\n",
              " 'data/alignments/s1/bwig3a.align',\n",
              " 'data/alignments/s1/bwigzn.align',\n",
              " 'data/alignments/s1/bwim4n.align',\n",
              " 'data/alignments/s1/bwim5s.align',\n",
              " 'data/alignments/s1/bwim6p.align',\n",
              " 'data/alignments/s1/bwim7a.align',\n",
              " 'data/alignments/s1/bwis8n.align',\n",
              " 'data/alignments/s1/bwis9s.align',\n",
              " 'data/alignments/s1/bwit1a.align',\n",
              " 'data/alignments/s1/bwitzp.align',\n",
              " 'data/alignments/s1/bwwa8n.align',\n",
              " 'data/alignments/s1/bwwa9s.align',\n",
              " 'data/alignments/s1/bwwb1a.align',\n",
              " 'data/alignments/s1/bwwbzp.align',\n",
              " 'data/alignments/s1/bwwh2n.align',\n",
              " 'data/alignments/s1/bwwh3s.align',\n",
              " 'data/alignments/s1/bwwh4p.align',\n",
              " 'data/alignments/s1/bwwh5a.align',\n",
              " 'data/alignments/s1/bwwn6n.align',\n",
              " 'data/alignments/s1/bwwn7s.align',\n",
              " 'data/alignments/s1/bwwn8p.align',\n",
              " 'data/alignments/s1/bwwn9a.align',\n",
              " 'data/alignments/s1/bwwu1s.align',\n",
              " 'data/alignments/s1/bwwu2p.align',\n",
              " 'data/alignments/s1/bwwu3a.align',\n",
              " 'data/alignments/s1/bwwuzn.align',\n",
              " 'data/alignments/s1/lbad6n.align',\n",
              " 'data/alignments/s1/lbad7s.align',\n",
              " 'data/alignments/s1/lbad8p.align',\n",
              " 'data/alignments/s1/lbad9a.align',\n",
              " 'data/alignments/s1/lbak1s.align',\n",
              " 'data/alignments/s1/lbak2p.align',\n",
              " 'data/alignments/s1/lbak3a.align',\n",
              " 'data/alignments/s1/lbakzn.align',\n",
              " 'data/alignments/s1/lbaq4n.align',\n",
              " 'data/alignments/s1/lbaq5s.align',\n",
              " 'data/alignments/s1/lbaq6p.align',\n",
              " 'data/alignments/s1/lbaq7a.align',\n",
              " 'data/alignments/s1/lbax8n.align',\n",
              " 'data/alignments/s1/lbax9s.align',\n",
              " 'data/alignments/s1/lbay1a.align',\n",
              " 'data/alignments/s1/lbayzp.align',\n",
              " 'data/alignments/s1/lbbe1s.align',\n",
              " 'data/alignments/s1/lbbe2p.align',\n",
              " 'data/alignments/s1/lbbe3a.align',\n",
              " 'data/alignments/s1/lbbezn.align',\n",
              " 'data/alignments/s1/lbbk4n.align',\n",
              " 'data/alignments/s1/lbbk5s.align',\n",
              " 'data/alignments/s1/lbbk6p.align',\n",
              " 'data/alignments/s1/lbbk7a.align',\n",
              " 'data/alignments/s1/lbbq8n.align',\n",
              " 'data/alignments/s1/lbbq9s.align',\n",
              " 'data/alignments/s1/lbbr1a.align',\n",
              " 'data/alignments/s1/lbbrzp.align',\n",
              " 'data/alignments/s1/lbby2n.align',\n",
              " 'data/alignments/s1/lbby3s.align',\n",
              " 'data/alignments/s1/lbby4p.align',\n",
              " 'data/alignments/s1/lbby5a.align',\n",
              " 'data/alignments/s1/lbid2n.align',\n",
              " 'data/alignments/s1/lbid3s.align',\n",
              " 'data/alignments/s1/lbid4p.align',\n",
              " 'data/alignments/s1/lbid5a.align',\n",
              " 'data/alignments/s1/lbij6n.align',\n",
              " 'data/alignments/s1/lbij7s.align',\n",
              " 'data/alignments/s1/lbij8p.align',\n",
              " 'data/alignments/s1/lbij9a.align',\n",
              " 'data/alignments/s1/lbiq1s.align',\n",
              " 'data/alignments/s1/lbiq2p.align',\n",
              " 'data/alignments/s1/lbiq3a.align',\n",
              " 'data/alignments/s1/lbiqzn.align',\n",
              " 'data/alignments/s1/lbix4n.align',\n",
              " 'data/alignments/s1/lbix5s.align',\n",
              " 'data/alignments/s1/lbix6p.align',\n",
              " 'data/alignments/s1/lbix7a.align',\n",
              " 'data/alignments/s1/lbwe4n.align',\n",
              " 'data/alignments/s1/lbwe5s.align',\n",
              " 'data/alignments/s1/lbwe6p.align',\n",
              " 'data/alignments/s1/lbwe7a.align',\n",
              " 'data/alignments/s1/lbwk8n.align',\n",
              " 'data/alignments/s1/lbwk9s.align',\n",
              " 'data/alignments/s1/lbwl1a.align',\n",
              " 'data/alignments/s1/lbwlzp.align',\n",
              " 'data/alignments/s1/lbwr2n.align',\n",
              " 'data/alignments/s1/lbwr3s.align',\n",
              " 'data/alignments/s1/lbwr4p.align',\n",
              " 'data/alignments/s1/lbwr5a.align',\n",
              " 'data/alignments/s1/lbwy6n.align',\n",
              " 'data/alignments/s1/lbwy7s.align',\n",
              " 'data/alignments/s1/lbwy8p.align',\n",
              " 'data/alignments/s1/lbwy9a.align',\n",
              " 'data/alignments/s1/lgaf4n.align',\n",
              " 'data/alignments/s1/lgaf5s.align',\n",
              " 'data/alignments/s1/lgaf6p.align',\n",
              " 'data/alignments/s1/lgaf7a.align',\n",
              " 'data/alignments/s1/lgal8n.align',\n",
              " 'data/alignments/s1/lgal9s.align',\n",
              " 'data/alignments/s1/lgam1a.align',\n",
              " 'data/alignments/s1/lgamzp.align',\n",
              " 'data/alignments/s1/lgas2n.align',\n",
              " 'data/alignments/s1/lgas3s.align',\n",
              " 'data/alignments/s1/lgas4p.align',\n",
              " 'data/alignments/s1/lgas5a.align',\n",
              " 'data/alignments/s1/lgaz6n.align',\n",
              " 'data/alignments/s1/lgaz7s.align',\n",
              " 'data/alignments/s1/lgaz8p.align',\n",
              " 'data/alignments/s1/lgaz9a.align',\n",
              " 'data/alignments/s1/lgbf8n.align',\n",
              " 'data/alignments/s1/lgbf9s.align',\n",
              " 'data/alignments/s1/lgbg1a.align',\n",
              " 'data/alignments/s1/lgbgzp.align',\n",
              " 'data/alignments/s1/lgbm2n.align',\n",
              " 'data/alignments/s1/lgbm3s.align',\n",
              " 'data/alignments/s1/lgbm4p.align',\n",
              " 'data/alignments/s1/lgbm5a.align',\n",
              " 'data/alignments/s1/lgbs6n.align',\n",
              " 'data/alignments/s1/lgbs7s.align',\n",
              " 'data/alignments/s1/lgbs8p.align',\n",
              " 'data/alignments/s1/lgbs9a.align',\n",
              " 'data/alignments/s1/lgif1s.align',\n",
              " 'data/alignments/s1/lgif2p.align',\n",
              " 'data/alignments/s1/lgif3a.align',\n",
              " 'data/alignments/s1/lgifzn.align',\n",
              " 'data/alignments/s1/lgil4n.align',\n",
              " 'data/alignments/s1/lgil5s.align',\n",
              " 'data/alignments/s1/lgil6p.align',\n",
              " 'data/alignments/s1/lgil7a.align',\n",
              " 'data/alignments/s1/lgir8n.align',\n",
              " 'data/alignments/s1/lgir9s.align',\n",
              " 'data/alignments/s1/lgis1a.align',\n",
              " 'data/alignments/s1/lgiszp.align',\n",
              " 'data/alignments/s1/lgiz2n.align',\n",
              " 'data/alignments/s1/lgiz3s.align',\n",
              " 'data/alignments/s1/lgiz4p.align',\n",
              " 'data/alignments/s1/lgiz5a.align',\n",
              " 'data/alignments/s1/lgwa1a.align',\n",
              " 'data/alignments/s1/lgwazp.align',\n",
              " 'data/alignments/s1/lgwg2n.align',\n",
              " 'data/alignments/s1/lgwg3s.align',\n",
              " 'data/alignments/s1/lgwg4p.align',\n",
              " 'data/alignments/s1/lgwg5a.align',\n",
              " 'data/alignments/s1/lgwm6n.align',\n",
              " 'data/alignments/s1/lgwm7s.align',\n",
              " 'data/alignments/s1/lgwm8p.align',\n",
              " 'data/alignments/s1/lgwm9a.align',\n",
              " 'data/alignments/s1/lgwt1s.align',\n",
              " 'data/alignments/s1/lgwt2p.align',\n",
              " 'data/alignments/s1/lgwt3a.align',\n",
              " 'data/alignments/s1/lgwtzn.align',\n",
              " 'data/alignments/s1/lrae2n.align',\n",
              " 'data/alignments/s1/lrae3s.align',\n",
              " 'data/alignments/s1/lrae4p.align',\n",
              " 'data/alignments/s1/lrae5a.align',\n",
              " 'data/alignments/s1/lrak6n.align',\n",
              " 'data/alignments/s1/lrak7s.align',\n",
              " 'data/alignments/s1/lrak8p.align',\n",
              " 'data/alignments/s1/lrak9a.align',\n",
              " 'data/alignments/s1/lrar1s.align',\n",
              " 'data/alignments/s1/lrar2p.align',\n",
              " 'data/alignments/s1/lrar3a.align',\n",
              " 'data/alignments/s1/lrarzn.align',\n",
              " 'data/alignments/s1/lray4n.align',\n",
              " 'data/alignments/s1/lray5s.align',\n",
              " 'data/alignments/s1/lray6p.align',\n",
              " 'data/alignments/s1/lray7a.align',\n",
              " 'data/alignments/s1/lrbe6n.align',\n",
              " 'data/alignments/s1/lrbe7s.align',\n",
              " 'data/alignments/s1/lrbe8p.align',\n",
              " 'data/alignments/s1/lrbe9a.align',\n",
              " 'data/alignments/s1/lrbl1s.align',\n",
              " 'data/alignments/s1/lrbl2p.align',\n",
              " 'data/alignments/s1/lrbl3a.align',\n",
              " 'data/alignments/s1/lrblzn.align',\n",
              " 'data/alignments/s1/lrbr4n.align',\n",
              " 'data/alignments/s1/lrbr5s.align',\n",
              " 'data/alignments/s1/lrbr6p.align',\n",
              " 'data/alignments/s1/lrbr7a.align',\n",
              " 'data/alignments/s1/lrby8n.align',\n",
              " 'data/alignments/s1/lrby9s.align',\n",
              " 'data/alignments/s1/lrbz1a.align',\n",
              " 'data/alignments/s1/lrbzzp.align',\n",
              " 'data/alignments/s1/lrid8n.align',\n",
              " 'data/alignments/s1/lrid9s.align',\n",
              " 'data/alignments/s1/lrie1a.align',\n",
              " 'data/alignments/s1/lriezp.align',\n",
              " 'data/alignments/s1/lrik2n.align',\n",
              " 'data/alignments/s1/lrik3s.align',\n",
              " 'data/alignments/s1/lrik4p.align',\n",
              " 'data/alignments/s1/lrik5a.align',\n",
              " 'data/alignments/s1/lriq6n.align',\n",
              " 'data/alignments/s1/lriq7s.align',\n",
              " 'data/alignments/s1/lriq8p.align',\n",
              " 'data/alignments/s1/lriq9a.align',\n",
              " 'data/alignments/s1/lriy1s.align',\n",
              " 'data/alignments/s1/lriy2p.align',\n",
              " 'data/alignments/s1/lriy3a.align',\n",
              " 'data/alignments/s1/lriyzn.align',\n",
              " 'data/alignments/s1/lrwf1s.align',\n",
              " 'data/alignments/s1/lrwf2p.align',\n",
              " 'data/alignments/s1/lrwf3a.align',\n",
              " 'data/alignments/s1/lrwfzn.align',\n",
              " 'data/alignments/s1/lrwl4n.align',\n",
              " 'data/alignments/s1/lrwl5s.align',\n",
              " 'data/alignments/s1/lrwl6p.align',\n",
              " 'data/alignments/s1/lrwl7a.align',\n",
              " 'data/alignments/s1/lrwr8n.align',\n",
              " 'data/alignments/s1/lrwr9s.align',\n",
              " 'data/alignments/s1/lrws1a.align',\n",
              " 'data/alignments/s1/lrwszp.align',\n",
              " 'data/alignments/s1/lrwz2n.align',\n",
              " 'data/alignments/s1/lrwz3s.align',\n",
              " 'data/alignments/s1/lrwz4p.align',\n",
              " 'data/alignments/s1/lrwz5a.align',\n",
              " 'data/alignments/s1/lwae8n.align',\n",
              " 'data/alignments/s1/lwae9s.align',\n",
              " 'data/alignments/s1/lwaf1a.align',\n",
              " 'data/alignments/s1/lwafzp.align',\n",
              " 'data/alignments/s1/lwal2n.align',\n",
              " 'data/alignments/s1/lwal3s.align',\n",
              " 'data/alignments/s1/lwal4p.align',\n",
              " 'data/alignments/s1/lwal5a.align',\n",
              " 'data/alignments/s1/lwar6n.align',\n",
              " 'data/alignments/s1/lwar7s.align',\n",
              " 'data/alignments/s1/lwar8p.align',\n",
              " 'data/alignments/s1/lwar9a.align',\n",
              " 'data/alignments/s1/lwaz1s.align',\n",
              " 'data/alignments/s1/lwaz2p.align',\n",
              " 'data/alignments/s1/lwaz3a.align',\n",
              " 'data/alignments/s1/lwazzn.align',\n",
              " 'data/alignments/s1/lwbf2n.align',\n",
              " 'data/alignments/s1/lwbf3s.align',\n",
              " 'data/alignments/s1/lwbf4p.align',\n",
              " 'data/alignments/s1/lwbf5a.align',\n",
              " 'data/alignments/s1/lwbl6n.align',\n",
              " 'data/alignments/s1/lwbl7s.align',\n",
              " 'data/alignments/s1/lwbl8p.align',\n",
              " 'data/alignments/s1/lwbl9a.align',\n",
              " 'data/alignments/s1/lwbs1s.align',\n",
              " 'data/alignments/s1/lwbs2p.align',\n",
              " 'data/alignments/s1/lwbs3a.align',\n",
              " 'data/alignments/s1/lwbszn.align',\n",
              " 'data/alignments/s1/lwbz4n.align',\n",
              " 'data/alignments/s1/lwbz5s.align',\n",
              " 'data/alignments/s1/lwbz6p.align',\n",
              " 'data/alignments/s1/lwbz7a.align',\n",
              " 'data/alignments/s1/lwie4n.align',\n",
              " 'data/alignments/s1/lwie5s.align',\n",
              " 'data/alignments/s1/lwie6p.align',\n",
              " 'data/alignments/s1/lwie7a.align',\n",
              " 'data/alignments/s1/lwik8n.align',\n",
              " 'data/alignments/s1/lwik9s.align',\n",
              " 'data/alignments/s1/lwil1a.align',\n",
              " 'data/alignments/s1/lwilzp.align',\n",
              " 'data/alignments/s1/lwir2n.align',\n",
              " 'data/alignments/s1/lwir3s.align',\n",
              " 'data/alignments/s1/lwir4p.align',\n",
              " 'data/alignments/s1/lwir5a.align',\n",
              " 'data/alignments/s1/lwiy6n.align',\n",
              " 'data/alignments/s1/lwiy7s.align',\n",
              " 'data/alignments/s1/lwiy8p.align',\n",
              " 'data/alignments/s1/lwiy9a.align',\n",
              " 'data/alignments/s1/lwwf6n.align',\n",
              " 'data/alignments/s1/lwwf7s.align',\n",
              " 'data/alignments/s1/lwwf8p.align',\n",
              " 'data/alignments/s1/lwwf9a.align',\n",
              " 'data/alignments/s1/lwwm1s.align',\n",
              " 'data/alignments/s1/lwwm2p.align',\n",
              " 'data/alignments/s1/lwwm3a.align',\n",
              " 'data/alignments/s1/lwwmzn.align',\n",
              " 'data/alignments/s1/lwws4n.align',\n",
              " 'data/alignments/s1/lwws5s.align',\n",
              " 'data/alignments/s1/lwws6p.align',\n",
              " 'data/alignments/s1/lwws7a.align',\n",
              " 'data/alignments/s1/lwwz8n.align',\n",
              " 'data/alignments/s1/lwwz9s.align',\n",
              " 'data/alignments/s1/pbac1s.align',\n",
              " 'data/alignments/s1/pbac2p.align',\n",
              " 'data/alignments/s1/pbac3a.align',\n",
              " 'data/alignments/s1/pbaczn.align',\n",
              " 'data/alignments/s1/pbai4n.align',\n",
              " 'data/alignments/s1/pbai5s.align',\n",
              " 'data/alignments/s1/pbai6p.align',\n",
              " 'data/alignments/s1/pbai7a.align',\n",
              " 'data/alignments/s1/pbao8n.align',\n",
              " 'data/alignments/s1/pbao9s.align',\n",
              " 'data/alignments/s1/pbap1a.align',\n",
              " 'data/alignments/s1/pbapzp.align',\n",
              " 'data/alignments/s1/pbav2n.align',\n",
              " 'data/alignments/s1/pbav3s.align',\n",
              " 'data/alignments/s1/pbav4p.align',\n",
              " 'data/alignments/s1/pbav5a.align',\n",
              " 'data/alignments/s1/pbbc4n.align',\n",
              " 'data/alignments/s1/pbbc5s.align',\n",
              " 'data/alignments/s1/pbbc6p.align',\n",
              " 'data/alignments/s1/pbbc7a.align',\n",
              " 'data/alignments/s1/pbbi8n.align',\n",
              " 'data/alignments/s1/pbbi9s.align',\n",
              " 'data/alignments/s1/pbbj1a.align',\n",
              " 'data/alignments/s1/pbbjzp.align',\n",
              " 'data/alignments/s1/pbbp2n.align',\n",
              " 'data/alignments/s1/pbbp3s.align',\n",
              " 'data/alignments/s1/pbbp4p.align',\n",
              " 'data/alignments/s1/pbbp5a.align',\n",
              " 'data/alignments/s1/pbbv6n.align',\n",
              " 'data/alignments/s1/pbbv7s.align',\n",
              " 'data/alignments/s1/pbbv8p.align',\n",
              " 'data/alignments/s1/pbbv9a.align',\n",
              " 'data/alignments/s1/pbib6n.align',\n",
              " 'data/alignments/s1/pbib7s.align',\n",
              " 'data/alignments/s1/pbib8p.align',\n",
              " 'data/alignments/s1/pbib9a.align',\n",
              " 'data/alignments/s1/pbii1s.align',\n",
              " 'data/alignments/s1/pbii2p.align',\n",
              " 'data/alignments/s1/pbii3a.align',\n",
              " 'data/alignments/s1/pbiizn.align',\n",
              " 'data/alignments/s1/pbio4n.align',\n",
              " 'data/alignments/s1/pbio5s.align',\n",
              " 'data/alignments/s1/pbio6p.align',\n",
              " 'data/alignments/s1/pbio7a.align',\n",
              " 'data/alignments/s1/pbiu8n.align',\n",
              " 'data/alignments/s1/pbiu9s.align',\n",
              " 'data/alignments/s1/pbiv1a.align',\n",
              " 'data/alignments/s1/pbivzp.align',\n",
              " 'data/alignments/s1/pbwc8n.align',\n",
              " 'data/alignments/s1/pbwc9s.align',\n",
              " 'data/alignments/s1/pbwd1a.align',\n",
              " 'data/alignments/s1/pbwdzp.align',\n",
              " 'data/alignments/s1/pbwj2n.align',\n",
              " 'data/alignments/s1/pbwj3s.align',\n",
              " 'data/alignments/s1/pbwj4p.align',\n",
              " 'data/alignments/s1/pbwj5a.align',\n",
              " 'data/alignments/s1/pbwp6n.align',\n",
              " 'data/alignments/s1/pbwp7s.align',\n",
              " 'data/alignments/s1/pbwp8p.align',\n",
              " 'data/alignments/s1/pbwp9a.align',\n",
              " 'data/alignments/s1/pbwx1s.align',\n",
              " 'data/alignments/s1/pbwx2p.align',\n",
              " 'data/alignments/s1/pbwx3a.align',\n",
              " 'data/alignments/s1/pbwxzn.align',\n",
              " 'data/alignments/s1/pgad8n.align',\n",
              " 'data/alignments/s1/pgad9s.align',\n",
              " 'data/alignments/s1/pgae1a.align',\n",
              " 'data/alignments/s1/pgaezp.align',\n",
              " 'data/alignments/s1/pgak2n.align',\n",
              " 'data/alignments/s1/pgak3s.align',\n",
              " 'data/alignments/s1/pgak4p.align',\n",
              " 'data/alignments/s1/pgak5a.align',\n",
              " 'data/alignments/s1/pgaq6n.align',\n",
              " 'data/alignments/s1/pgaq7s.align',\n",
              " 'data/alignments/s1/pgaq8p.align',\n",
              " 'data/alignments/s1/pgaq9a.align',\n",
              " 'data/alignments/s1/pgay1s.align',\n",
              " 'data/alignments/s1/pgay2p.align',\n",
              " 'data/alignments/s1/pgay3a.align',\n",
              " 'data/alignments/s1/pgayzn.align',\n",
              " 'data/alignments/s1/pgbe2n.align',\n",
              " 'data/alignments/s1/pgbe3s.align',\n",
              " 'data/alignments/s1/pgbe4p.align',\n",
              " 'data/alignments/s1/pgbe5a.align',\n",
              " 'data/alignments/s1/pgbk6n.align',\n",
              " 'data/alignments/s1/pgbk7s.align',\n",
              " 'data/alignments/s1/pgbk8p.align',\n",
              " 'data/alignments/s1/pgbk9a.align',\n",
              " 'data/alignments/s1/pgbr1s.align',\n",
              " 'data/alignments/s1/pgbr2p.align',\n",
              " 'data/alignments/s1/pgbr3a.align',\n",
              " 'data/alignments/s1/pgbrzn.align',\n",
              " 'data/alignments/s1/pgby4n.align',\n",
              " 'data/alignments/s1/pgby5s.align',\n",
              " 'data/alignments/s1/pgby6p.align',\n",
              " 'data/alignments/s1/pgby7a.align',\n",
              " 'data/alignments/s1/pgid4n.align',\n",
              " 'data/alignments/s1/pgid5s.align',\n",
              " 'data/alignments/s1/pgid6p.align',\n",
              " 'data/alignments/s1/pgid7a.align',\n",
              " 'data/alignments/s1/pgij8n.align',\n",
              " 'data/alignments/s1/pgij9s.align',\n",
              " 'data/alignments/s1/pgik1a.align',\n",
              " 'data/alignments/s1/pgikzp.align',\n",
              " 'data/alignments/s1/pgiq2n.align',\n",
              " 'data/alignments/s1/pgiq3s.align',\n",
              " 'data/alignments/s1/pgiq4p.align',\n",
              " 'data/alignments/s1/pgiq5a.align',\n",
              " 'data/alignments/s1/pgix6n.align',\n",
              " 'data/alignments/s1/pgix7s.align',\n",
              " 'data/alignments/s1/pgix8p.align',\n",
              " 'data/alignments/s1/pgix9a.align',\n",
              " 'data/alignments/s1/pgwe6n.align',\n",
              " 'data/alignments/s1/pgwe7s.align',\n",
              " 'data/alignments/s1/pgwe8p.align',\n",
              " 'data/alignments/s1/pgwe9a.align',\n",
              " 'data/alignments/s1/pgwl1s.align',\n",
              " 'data/alignments/s1/pgwl2p.align',\n",
              " 'data/alignments/s1/pgwl3a.align',\n",
              " 'data/alignments/s1/pgwlzn.align',\n",
              " 'data/alignments/s1/pgwr4n.align',\n",
              " 'data/alignments/s1/pgwr5s.align',\n",
              " 'data/alignments/s1/pgwr6p.align',\n",
              " 'data/alignments/s1/pgwr7a.align',\n",
              " 'data/alignments/s1/pgwy8n.align',\n",
              " 'data/alignments/s1/pgwy9s.align',\n",
              " 'data/alignments/s1/pgwz1a.align',\n",
              " 'data/alignments/s1/pgwzzp.align',\n",
              " 'data/alignments/s1/prac6n.align',\n",
              " 'data/alignments/s1/prac7s.align',\n",
              " 'data/alignments/s1/prac8p.align',\n",
              " 'data/alignments/s1/prac9a.align',\n",
              " 'data/alignments/s1/praj1s.align',\n",
              " 'data/alignments/s1/praj2p.align',\n",
              " 'data/alignments/s1/praj3a.align',\n",
              " 'data/alignments/s1/prajzn.align',\n",
              " 'data/alignments/s1/prap4n.align',\n",
              " 'data/alignments/s1/prap5s.align',\n",
              " 'data/alignments/s1/prap6p.align',\n",
              " 'data/alignments/s1/prap7a.align',\n",
              " 'data/alignments/s1/prav8n.align',\n",
              " 'data/alignments/s1/prav9s.align',\n",
              " 'data/alignments/s1/prax1a.align',\n",
              " 'data/alignments/s1/praxzp.align',\n",
              " 'data/alignments/s1/prbd1s.align',\n",
              " 'data/alignments/s1/prbd2p.align',\n",
              " 'data/alignments/s1/prbd3a.align',\n",
              " 'data/alignments/s1/prbdzn.align',\n",
              " 'data/alignments/s1/prbj4n.align',\n",
              " 'data/alignments/s1/prbj5s.align',\n",
              " 'data/alignments/s1/prbj6p.align',\n",
              " 'data/alignments/s1/prbj7a.align',\n",
              " 'data/alignments/s1/prbp8n.align',\n",
              " 'data/alignments/s1/prbp9s.align',\n",
              " 'data/alignments/s1/prbq1a.align',\n",
              " 'data/alignments/s1/prbqzp.align',\n",
              " 'data/alignments/s1/prbx2n.align',\n",
              " 'data/alignments/s1/prbx3s.align',\n",
              " 'data/alignments/s1/prbx4p.align',\n",
              " 'data/alignments/s1/prbx5a.align',\n",
              " 'data/alignments/s1/pric2n.align',\n",
              " 'data/alignments/s1/pric3s.align',\n",
              " 'data/alignments/s1/pric4p.align',\n",
              " 'data/alignments/s1/pric5a.align',\n",
              " 'data/alignments/s1/prii6n.align',\n",
              " 'data/alignments/s1/prii7s.align',\n",
              " 'data/alignments/s1/prii8p.align',\n",
              " 'data/alignments/s1/prii9a.align',\n",
              " 'data/alignments/s1/prip1s.align',\n",
              " 'data/alignments/s1/prip2p.align',\n",
              " 'data/alignments/s1/prip3a.align',\n",
              " 'data/alignments/s1/pripzn.align',\n",
              " 'data/alignments/s1/priv4n.align',\n",
              " 'data/alignments/s1/priv5s.align',\n",
              " 'data/alignments/s1/priv6p.align',\n",
              " 'data/alignments/s1/priv7a.align',\n",
              " 'data/alignments/s1/prwd4n.align',\n",
              " 'data/alignments/s1/prwd5s.align',\n",
              " 'data/alignments/s1/prwd6p.align',\n",
              " 'data/alignments/s1/prwd7a.align',\n",
              " 'data/alignments/s1/prwj8n.align',\n",
              " 'data/alignments/s1/prwj9s.align',\n",
              " 'data/alignments/s1/prwk1a.align',\n",
              " 'data/alignments/s1/prwkzp.align',\n",
              " 'data/alignments/s1/prwq2n.align',\n",
              " 'data/alignments/s1/prwq3s.align',\n",
              " 'data/alignments/s1/prwq4p.align',\n",
              " 'data/alignments/s1/prwq5a.align',\n",
              " 'data/alignments/s1/prwx6n.align',\n",
              " 'data/alignments/s1/prwx7s.align',\n",
              " 'data/alignments/s1/prwx8p.align',\n",
              " 'data/alignments/s1/prwx9a.align',\n",
              " 'data/alignments/s1/pwad2n.align',\n",
              " 'data/alignments/s1/pwad3s.align',\n",
              " 'data/alignments/s1/pwad4p.align',\n",
              " 'data/alignments/s1/pwad5a.align',\n",
              " 'data/alignments/s1/pwaj6n.align',\n",
              " 'data/alignments/s1/pwaj7s.align',\n",
              " 'data/alignments/s1/pwaj8p.align',\n",
              " 'data/alignments/s1/pwaj9a.align',\n",
              " 'data/alignments/s1/pwaq1s.align',\n",
              " 'data/alignments/s1/pwaq2p.align',\n",
              " 'data/alignments/s1/pwaq3a.align',\n",
              " 'data/alignments/s1/pwaqzn.align',\n",
              " 'data/alignments/s1/pwax4n.align',\n",
              " 'data/alignments/s1/pwax5s.align',\n",
              " 'data/alignments/s1/pwax6p.align',\n",
              " 'data/alignments/s1/pwax7a.align',\n",
              " 'data/alignments/s1/pwbd6n.align',\n",
              " 'data/alignments/s1/pwbd7s.align',\n",
              " 'data/alignments/s1/pwbd8p.align',\n",
              " 'data/alignments/s1/pwbd9a.align',\n",
              " 'data/alignments/s1/pwbk1s.align',\n",
              " 'data/alignments/s1/pwbk2p.align',\n",
              " 'data/alignments/s1/pwbk3a.align',\n",
              " 'data/alignments/s1/pwbkzn.align',\n",
              " 'data/alignments/s1/pwbq4n.align',\n",
              " 'data/alignments/s1/pwbq5s.align',\n",
              " 'data/alignments/s1/pwbq6p.align',\n",
              " 'data/alignments/s1/pwbq7a.align',\n",
              " 'data/alignments/s1/pwbx8n.align',\n",
              " 'data/alignments/s1/pwbx9s.align',\n",
              " 'data/alignments/s1/pwby1a.align',\n",
              " 'data/alignments/s1/pwbyzp.align',\n",
              " 'data/alignments/s1/pwic8n.align',\n",
              " 'data/alignments/s1/pwic9s.align',\n",
              " 'data/alignments/s1/pwid1a.align',\n",
              " 'data/alignments/s1/pwidzp.align',\n",
              " 'data/alignments/s1/pwij2n.align',\n",
              " 'data/alignments/s1/pwij3s.align',\n",
              " 'data/alignments/s1/pwij4p.align',\n",
              " 'data/alignments/s1/pwij5a.align',\n",
              " 'data/alignments/s1/pwip6n.align',\n",
              " 'data/alignments/s1/pwip7s.align',\n",
              " 'data/alignments/s1/pwip8p.align',\n",
              " 'data/alignments/s1/pwip9a.align',\n",
              " 'data/alignments/s1/pwix1s.align',\n",
              " 'data/alignments/s1/pwix2p.align',\n",
              " 'data/alignments/s1/pwix3a.align',\n",
              " 'data/alignments/s1/pwixzn.align',\n",
              " 'data/alignments/s1/pwwe1s.align',\n",
              " 'data/alignments/s1/pwwe2p.align',\n",
              " 'data/alignments/s1/pwwe3a.align',\n",
              " 'data/alignments/s1/pwwezn.align',\n",
              " 'data/alignments/s1/pwwk4n.align',\n",
              " 'data/alignments/s1/pwwk5s.align',\n",
              " 'data/alignments/s1/pwwk6p.align',\n",
              " 'data/alignments/s1/pwwk7a.align',\n",
              " 'data/alignments/s1/pwwq8n.align',\n",
              " 'data/alignments/s1/pwwq9s.align',\n",
              " 'data/alignments/s1/pwwr1a.align',\n",
              " 'data/alignments/s1/pwwrzp.align',\n",
              " 'data/alignments/s1/pwwy2n.align',\n",
              " 'data/alignments/s1/pwwy3s.align',\n",
              " 'data/alignments/s1/pwwy4p.align',\n",
              " 'data/alignments/s1/pwwy5a.align',\n",
              " 'data/alignments/s1/sbaa4n.align',\n",
              " 'data/alignments/s1/sbaa5s.align',\n",
              " 'data/alignments/s1/sbaa6p.align',\n",
              " 'data/alignments/s1/sbaa7a.align',\n",
              " 'data/alignments/s1/sbag8n.align',\n",
              " 'data/alignments/s1/sbag9s.align',\n",
              " 'data/alignments/s1/sbah1a.align',\n",
              " 'data/alignments/s1/sbahzp.align',\n",
              " 'data/alignments/s1/sban2n.align',\n",
              " 'data/alignments/s1/sban3s.align',\n",
              " 'data/alignments/s1/sban4p.align',\n",
              " 'data/alignments/s1/sban5a.align',\n",
              " 'data/alignments/s1/sbat6n.align',\n",
              " 'data/alignments/s1/sbat7s.align',\n",
              " 'data/alignments/s1/sbat8p.align',\n",
              " 'data/alignments/s1/sbat9a.align',\n",
              " 'data/alignments/s1/sbba8n.align',\n",
              " 'data/alignments/s1/sbba9s.align',\n",
              " 'data/alignments/s1/sbbb1a.align',\n",
              " 'data/alignments/s1/sbbbzp.align',\n",
              " 'data/alignments/s1/sbbh2n.align',\n",
              " 'data/alignments/s1/sbbh3s.align',\n",
              " 'data/alignments/s1/sbbh4p.align',\n",
              " 'data/alignments/s1/sbbh5a.align',\n",
              " 'data/alignments/s1/sbbn6n.align',\n",
              " 'data/alignments/s1/sbbn7s.align',\n",
              " 'data/alignments/s1/sbbn8p.align',\n",
              " 'data/alignments/s1/sbbn9a.align',\n",
              " 'data/alignments/s1/sbbu1s.align',\n",
              " 'data/alignments/s1/sbbu2p.align',\n",
              " 'data/alignments/s1/sbbu3a.align',\n",
              " 'data/alignments/s1/sbbuzn.align',\n",
              " 'data/alignments/s1/sbia1s.align',\n",
              " 'data/alignments/s1/sbia2p.align',\n",
              " 'data/alignments/s1/sbia3a.align',\n",
              " 'data/alignments/s1/sbiazn.align',\n",
              " 'data/alignments/s1/sbig4n.align',\n",
              " 'data/alignments/s1/sbig5s.align',\n",
              " 'data/alignments/s1/sbig6p.align',\n",
              " 'data/alignments/s1/sbig7a.align',\n",
              " 'data/alignments/s1/sbim8n.align',\n",
              " 'data/alignments/s1/sbim9s.align',\n",
              " 'data/alignments/s1/sbin1a.align',\n",
              " 'data/alignments/s1/sbinzp.align',\n",
              " 'data/alignments/s1/sbit2n.align',\n",
              " 'data/alignments/s1/sbit3s.align',\n",
              " 'data/alignments/s1/sbit4p.align',\n",
              " 'data/alignments/s1/sbit5a.align',\n",
              " 'data/alignments/s1/sbwb2n.align',\n",
              " 'data/alignments/s1/sbwb3s.align',\n",
              " 'data/alignments/s1/sbwb4p.align',\n",
              " 'data/alignments/s1/sbwb5a.align',\n",
              " 'data/alignments/s1/sbwh6n.align',\n",
              " 'data/alignments/s1/sbwh7s.align',\n",
              " 'data/alignments/s1/sbwh8p.align',\n",
              " 'data/alignments/s1/sbwh9a.align',\n",
              " 'data/alignments/s1/sbwo1s.align',\n",
              " 'data/alignments/s1/sbwo2p.align',\n",
              " 'data/alignments/s1/sbwo3a.align',\n",
              " 'data/alignments/s1/sbwozn.align',\n",
              " 'data/alignments/s1/sbwu4n.align',\n",
              " 'data/alignments/s1/sbwu5s.align',\n",
              " 'data/alignments/s1/sbwu6p.align',\n",
              " 'data/alignments/s1/sbwu7a.align',\n",
              " 'data/alignments/s1/sgac2n.align',\n",
              " 'data/alignments/s1/sgac3s.align',\n",
              " 'data/alignments/s1/sgac4p.align',\n",
              " 'data/alignments/s1/sgac5a.align',\n",
              " 'data/alignments/s1/sgai6n.align',\n",
              " 'data/alignments/s1/sgai7s.align',\n",
              " 'data/alignments/s1/sgai8p.align',\n",
              " 'data/alignments/s1/sgai9a.align',\n",
              " 'data/alignments/s1/sgap1s.align',\n",
              " 'data/alignments/s1/sgap2p.align',\n",
              " 'data/alignments/s1/sgap3a.align',\n",
              " 'data/alignments/s1/sgapzn.align',\n",
              " 'data/alignments/s1/sgav4n.align',\n",
              " 'data/alignments/s1/sgav5s.align',\n",
              " 'data/alignments/s1/sgav6p.align',\n",
              " 'data/alignments/s1/sgav7a.align',\n",
              " 'data/alignments/s1/sgbc6n.align',\n",
              " 'data/alignments/s1/sgbc7s.align',\n",
              " 'data/alignments/s1/sgbc8p.align',\n",
              " 'data/alignments/s1/sgbc9a.align',\n",
              " 'data/alignments/s1/sgbj1s.align',\n",
              " 'data/alignments/s1/sgbj2p.align',\n",
              " 'data/alignments/s1/sgbj3a.align',\n",
              " 'data/alignments/s1/sgbjzn.align',\n",
              " 'data/alignments/s1/sgbp4n.align',\n",
              " 'data/alignments/s1/sgbp5s.align',\n",
              " 'data/alignments/s1/sgbp6p.align',\n",
              " 'data/alignments/s1/sgbp7a.align',\n",
              " 'data/alignments/s1/sgbv8n.align',\n",
              " 'data/alignments/s1/sgbv9s.align',\n",
              " 'data/alignments/s1/sgbx1a.align',\n",
              " 'data/alignments/s1/sgbxzp.align',\n",
              " 'data/alignments/s1/sgib8n.align',\n",
              " 'data/alignments/s1/sgib9s.align',\n",
              " 'data/alignments/s1/sgic1a.align',\n",
              " 'data/alignments/s1/sgiczp.align',\n",
              " 'data/alignments/s1/sgii2n.align',\n",
              " 'data/alignments/s1/sgii3s.align',\n",
              " 'data/alignments/s1/sgii4p.align',\n",
              " 'data/alignments/s1/sgii5a.align',\n",
              " 'data/alignments/s1/sgio6n.align',\n",
              " 'data/alignments/s1/sgio7s.align',\n",
              " 'data/alignments/s1/sgio8p.align',\n",
              " 'data/alignments/s1/sgio9a.align',\n",
              " 'data/alignments/s1/sgiv1s.align',\n",
              " 'data/alignments/s1/sgiv2p.align',\n",
              " 'data/alignments/s1/sgiv3a.align',\n",
              " 'data/alignments/s1/sgivzn.align',\n",
              " 'data/alignments/s1/sgwd1s.align',\n",
              " 'data/alignments/s1/sgwd2p.align',\n",
              " 'data/alignments/s1/sgwd3a.align',\n",
              " 'data/alignments/s1/sgwdzn.align',\n",
              " 'data/alignments/s1/sgwj4n.align',\n",
              " 'data/alignments/s1/sgwj5s.align',\n",
              " 'data/alignments/s1/sgwj6p.align',\n",
              " 'data/alignments/s1/sgwj7a.align',\n",
              " 'data/alignments/s1/sgwp8n.align',\n",
              " 'data/alignments/s1/sgwp9s.align',\n",
              " 'data/alignments/s1/sgwq1a.align',\n",
              " 'data/alignments/s1/sgwqzp.align',\n",
              " 'data/alignments/s1/sgwx2n.align',\n",
              " 'data/alignments/s1/sgwx3s.align',\n",
              " 'data/alignments/s1/sgwx4p.align',\n",
              " 'data/alignments/s1/sgwx5a.align',\n",
              " 'data/alignments/s1/srab1s.align',\n",
              " 'data/alignments/s1/srab2p.align',\n",
              " 'data/alignments/s1/srab3a.align',\n",
              " 'data/alignments/s1/srabzn.align',\n",
              " 'data/alignments/s1/srah4n.align',\n",
              " 'data/alignments/s1/srah5s.align',\n",
              " 'data/alignments/s1/srah6p.align',\n",
              " 'data/alignments/s1/srah7a.align',\n",
              " 'data/alignments/s1/sran8n.align',\n",
              " 'data/alignments/s1/sran9s.align',\n",
              " 'data/alignments/s1/srao1a.align',\n",
              " 'data/alignments/s1/sraozp.align',\n",
              " 'data/alignments/s1/srau2n.align',\n",
              " 'data/alignments/s1/srau3s.align',\n",
              " 'data/alignments/s1/srau4p.align',\n",
              " 'data/alignments/s1/srau5a.align',\n",
              " 'data/alignments/s1/srbb4n.align',\n",
              " 'data/alignments/s1/srbb5s.align',\n",
              " 'data/alignments/s1/srbb6p.align',\n",
              " 'data/alignments/s1/srbb7a.align',\n",
              " 'data/alignments/s1/srbh8n.align',\n",
              " 'data/alignments/s1/srbh9s.align',\n",
              " 'data/alignments/s1/srbi1a.align',\n",
              " 'data/alignments/s1/srbizp.align',\n",
              " 'data/alignments/s1/srbo2n.align',\n",
              " 'data/alignments/s1/srbo3s.align',\n",
              " 'data/alignments/s1/srbo4p.align',\n",
              " 'data/alignments/s1/srbo5a.align',\n",
              " 'data/alignments/s1/srbu6n.align',\n",
              " 'data/alignments/s1/srbu7s.align',\n",
              " 'data/alignments/s1/srbu8p.align',\n",
              " 'data/alignments/s1/srbu9a.align',\n",
              " 'data/alignments/s1/sria6n.align',\n",
              " 'data/alignments/s1/sria7s.align',\n",
              " 'data/alignments/s1/sria8p.align',\n",
              " 'data/alignments/s1/sria9a.align',\n",
              " 'data/alignments/s1/srih1s.align',\n",
              " 'data/alignments/s1/srih2p.align',\n",
              " 'data/alignments/s1/srih3a.align',\n",
              " 'data/alignments/s1/srihzn.align',\n",
              " 'data/alignments/s1/srin4n.align',\n",
              " 'data/alignments/s1/srin5s.align',\n",
              " 'data/alignments/s1/srin6p.align',\n",
              " 'data/alignments/s1/srin7a.align',\n",
              " 'data/alignments/s1/srit8n.align',\n",
              " 'data/alignments/s1/srit9s.align',\n",
              " 'data/alignments/s1/sriu1a.align',\n",
              " 'data/alignments/s1/sriuzp.align',\n",
              " 'data/alignments/s1/srwb8n.align',\n",
              " 'data/alignments/s1/srwb9s.align',\n",
              " 'data/alignments/s1/srwc1a.align',\n",
              " 'data/alignments/s1/srwczp.align',\n",
              " 'data/alignments/s1/srwi2n.align',\n",
              " 'data/alignments/s1/srwi3s.align',\n",
              " 'data/alignments/s1/srwi4p.align',\n",
              " 'data/alignments/s1/srwi5a.align',\n",
              " 'data/alignments/s1/srwo6n.align',\n",
              " 'data/alignments/s1/srwo7s.align',\n",
              " 'data/alignments/s1/srwo8p.align',\n",
              " 'data/alignments/s1/srwo9a.align',\n",
              " 'data/alignments/s1/srwv1s.align',\n",
              " 'data/alignments/s1/srwv2p.align',\n",
              " 'data/alignments/s1/srwv3a.align',\n",
              " 'data/alignments/s1/srwvzn.align',\n",
              " 'data/alignments/s1/swab6n.align',\n",
              " 'data/alignments/s1/swab7s.align',\n",
              " 'data/alignments/s1/swab8p.align',\n",
              " 'data/alignments/s1/swab9a.align',\n",
              " 'data/alignments/s1/swai1s.align',\n",
              " 'data/alignments/s1/swai2p.align',\n",
              " 'data/alignments/s1/swai3a.align',\n",
              " 'data/alignments/s1/swaizn.align',\n",
              " 'data/alignments/s1/swao4n.align',\n",
              " 'data/alignments/s1/swao5s.align',\n",
              " 'data/alignments/s1/swao6p.align',\n",
              " 'data/alignments/s1/swao7a.align',\n",
              " 'data/alignments/s1/swau8n.align',\n",
              " 'data/alignments/s1/swau9s.align',\n",
              " 'data/alignments/s1/swav1a.align',\n",
              " 'data/alignments/s1/swavzp.align',\n",
              " 'data/alignments/s1/swbc1s.align',\n",
              " 'data/alignments/s1/swbc2p.align',\n",
              " 'data/alignments/s1/swbc3a.align',\n",
              " 'data/alignments/s1/swbczn.align',\n",
              " 'data/alignments/s1/swbi4n.align',\n",
              " 'data/alignments/s1/swbi5s.align',\n",
              " 'data/alignments/s1/swbi6p.align',\n",
              " 'data/alignments/s1/swbi7a.align',\n",
              " 'data/alignments/s1/swbo8n.align',\n",
              " 'data/alignments/s1/swbo9s.align',\n",
              " 'data/alignments/s1/swbp1a.align',\n",
              " 'data/alignments/s1/swbpzp.align',\n",
              " 'data/alignments/s1/swbv2n.align',\n",
              " 'data/alignments/s1/swbv3s.align',\n",
              " 'data/alignments/s1/swbv4p.align',\n",
              " 'data/alignments/s1/swbv5a.align',\n",
              " 'data/alignments/s1/swib2n.align',\n",
              " 'data/alignments/s1/swib3s.align',\n",
              " 'data/alignments/s1/swib4p.align',\n",
              " 'data/alignments/s1/swib5a.align',\n",
              " 'data/alignments/s1/swih6n.align',\n",
              " 'data/alignments/s1/swih7s.align',\n",
              " 'data/alignments/s1/swih8p.align',\n",
              " 'data/alignments/s1/swih9a.align',\n",
              " 'data/alignments/s1/swio1s.align',\n",
              " 'data/alignments/s1/swio2p.align',\n",
              " 'data/alignments/s1/swio3a.align',\n",
              " 'data/alignments/s1/swiozn.align',\n",
              " 'data/alignments/s1/swiu4n.align',\n",
              " 'data/alignments/s1/swiu5s.align',\n",
              " 'data/alignments/s1/swiu6p.align',\n",
              " 'data/alignments/s1/swiu7a.align',\n",
              " 'data/alignments/s1/swwc4n.align',\n",
              " 'data/alignments/s1/swwc5s.align',\n",
              " 'data/alignments/s1/swwc6p.align',\n",
              " 'data/alignments/s1/swwc7a.align',\n",
              " 'data/alignments/s1/swwi8n.align',\n",
              " 'data/alignments/s1/swwi9s.align',\n",
              " 'data/alignments/s1/swwj1a.align',\n",
              " 'data/alignments/s1/swwjzp.align',\n",
              " 'data/alignments/s1/swwp2n.align',\n",
              " 'data/alignments/s1/swwp3s.align',\n",
              " 'data/alignments/s1/swwp4p.align',\n",
              " 'data/alignments/s1/swwp5a.align',\n",
              " 'data/alignments/s1/swwv6n.align',\n",
              " ...]"
            ]
          },
          "metadata": {},
          "execution_count": 5
        }
      ],
      "id": "EVazaoUSNwPs"
    },
    {
      "cell_type": "code",
      "source": [
        "def load_video(path:str) -> List[float]:\n",
        "\n",
        "    cap = cv2.VideoCapture(path)\n",
        "    frames = []\n",
        "    for _ in range(int(cap.get(cv2.CAP_PROP_FRAME_COUNT))):\n",
        "        ret, frame = cap.read()\n",
        "        frame = tf.image.rgb_to_grayscale(frame)\n",
        "        frames.append(frame[190:236,80:220,:])\n",
        "    cap.release()\n",
        "\n",
        "    mean = tf.math.reduce_mean(frames)\n",
        "    std = tf.math.reduce_std(tf.cast(frames, tf.float32))\n",
        "    return tf.cast((frames - mean), tf.float32) / std"
      ],
      "metadata": {
        "tags": [],
        "execution": {
          "iopub.status.busy": "2024-05-10T19:05:58.796617Z",
          "iopub.execute_input": "2024-05-10T19:05:58.797006Z",
          "iopub.status.idle": "2024-05-10T19:05:58.803724Z",
          "shell.execute_reply.started": "2024-05-10T19:05:58.796976Z",
          "shell.execute_reply": "2024-05-10T19:05:58.802752Z"
        },
        "trusted": true,
        "id": "Pykom8cYNwPt"
      },
      "execution_count": null,
      "outputs": [],
      "id": "Pykom8cYNwPt"
    },
    {
      "cell_type": "code",
      "source": [
        "vocab = [x for x in \"abcdefghijklmnopqrstuvwxyz'?!123456789 \"]"
      ],
      "metadata": {
        "tags": [],
        "execution": {
          "iopub.status.busy": "2024-05-10T19:06:03.012510Z",
          "iopub.execute_input": "2024-05-10T19:06:03.012897Z",
          "iopub.status.idle": "2024-05-10T19:06:03.017614Z",
          "shell.execute_reply.started": "2024-05-10T19:06:03.012867Z",
          "shell.execute_reply": "2024-05-10T19:06:03.016564Z"
        },
        "trusted": true,
        "id": "UlObIlhyNwPt"
      },
      "execution_count": null,
      "outputs": [],
      "id": "UlObIlhyNwPt"
    },
    {
      "cell_type": "code",
      "source": [
        "char_to_num = tf.keras.layers.StringLookup(vocabulary=vocab, oov_token=\"\")\n",
        "num_to_char = tf.keras.layers.StringLookup(\n",
        "    vocabulary=char_to_num.get_vocabulary(), oov_token=\"\", invert=True\n",
        ")\n",
        "\n",
        "print(\n",
        "    f\"The vocabulary is: {char_to_num.get_vocabulary()} \"\n",
        "    f\"(size ={char_to_num.vocabulary_size()})\"\n",
        ")"
      ],
      "metadata": {
        "tags": [],
        "execution": {
          "iopub.status.busy": "2024-05-10T19:06:07.742519Z",
          "iopub.execute_input": "2024-05-10T19:06:07.743598Z",
          "iopub.status.idle": "2024-05-10T19:06:08.021539Z",
          "shell.execute_reply.started": "2024-05-10T19:06:07.743562Z",
          "shell.execute_reply": "2024-05-10T19:06:08.020514Z"
        },
        "trusted": true,
        "colab": {
          "base_uri": "https://localhost:8080/"
        },
        "id": "S9y1pgYbNwPt",
        "outputId": "f207ccf3-4bac-41be-f6c1-539e2bbc022b"
      },
      "execution_count": null,
      "outputs": [
        {
          "output_type": "stream",
          "name": "stdout",
          "text": [
            "The vocabulary is: ['', 'a', 'b', 'c', 'd', 'e', 'f', 'g', 'h', 'i', 'j', 'k', 'l', 'm', 'n', 'o', 'p', 'q', 'r', 's', 't', 'u', 'v', 'w', 'x', 'y', 'z', \"'\", '?', '!', '1', '2', '3', '4', '5', '6', '7', '8', '9', ' '] (size =40)\n"
          ]
        }
      ],
      "id": "S9y1pgYbNwPt"
    },
    {
      "cell_type": "code",
      "source": [
        "char_to_num.get_vocabulary()"
      ],
      "metadata": {
        "tags": [],
        "execution": {
          "iopub.status.busy": "2024-05-10T19:06:14.897353Z",
          "iopub.execute_input": "2024-05-10T19:06:14.898368Z",
          "iopub.status.idle": "2024-05-10T19:06:14.906176Z",
          "shell.execute_reply.started": "2024-05-10T19:06:14.898333Z",
          "shell.execute_reply": "2024-05-10T19:06:14.905122Z"
        },
        "trusted": true,
        "id": "mKEZTk3bNwPu",
        "outputId": "aa412e34-a7bb-443e-ed8a-211c8748b834"
      },
      "execution_count": null,
      "outputs": [
        {
          "execution_count": 9,
          "output_type": "execute_result",
          "data": {
            "text/plain": "['',\n 'a',\n 'b',\n 'c',\n 'd',\n 'e',\n 'f',\n 'g',\n 'h',\n 'i',\n 'j',\n 'k',\n 'l',\n 'm',\n 'n',\n 'o',\n 'p',\n 'q',\n 'r',\n 's',\n 't',\n 'u',\n 'v',\n 'w',\n 'x',\n 'y',\n 'z',\n \"'\",\n '?',\n '!',\n '1',\n '2',\n '3',\n '4',\n '5',\n '6',\n '7',\n '8',\n '9',\n ' ']"
          },
          "metadata": {}
        }
      ],
      "id": "mKEZTk3bNwPu"
    },
    {
      "cell_type": "code",
      "source": [
        "char_to_num(['n','a','w','a','l'])"
      ],
      "metadata": {
        "tags": [],
        "execution": {
          "iopub.status.busy": "2024-05-10T19:06:36.023783Z",
          "iopub.execute_input": "2024-05-10T19:06:36.024566Z",
          "iopub.status.idle": "2024-05-10T19:06:36.033148Z",
          "shell.execute_reply.started": "2024-05-10T19:06:36.024527Z",
          "shell.execute_reply": "2024-05-10T19:06:36.032013Z"
        },
        "trusted": true,
        "colab": {
          "base_uri": "https://localhost:8080/"
        },
        "id": "yVBdznxyNwPu",
        "outputId": "67145ebf-2a30-4be2-f946-0ee250d230ac"
      },
      "execution_count": null,
      "outputs": [
        {
          "output_type": "execute_result",
          "data": {
            "text/plain": [
              "<tf.Tensor: shape=(5,), dtype=int64, numpy=array([14,  1, 23,  1, 12])>"
            ]
          },
          "metadata": {},
          "execution_count": 9
        }
      ],
      "id": "yVBdznxyNwPu"
    },
    {
      "cell_type": "code",
      "source": [
        "num_to_char([14,  1, 23,  1, 12])"
      ],
      "metadata": {
        "execution": {
          "iopub.status.busy": "2024-05-10T19:06:56.078355Z",
          "iopub.execute_input": "2024-05-10T19:06:56.079241Z",
          "iopub.status.idle": "2024-05-10T19:06:56.091303Z",
          "shell.execute_reply.started": "2024-05-10T19:06:56.079205Z",
          "shell.execute_reply": "2024-05-10T19:06:56.090276Z"
        },
        "trusted": true,
        "colab": {
          "base_uri": "https://localhost:8080/"
        },
        "id": "D5XLGg55NwPv",
        "outputId": "04d68725-f513-42f4-c4f3-246085c3a9cd"
      },
      "execution_count": null,
      "outputs": [
        {
          "output_type": "execute_result",
          "data": {
            "text/plain": [
              "<tf.Tensor: shape=(5,), dtype=string, numpy=array([b'n', b'a', b'w', b'a', b'l'], dtype=object)>"
            ]
          },
          "metadata": {},
          "execution_count": 10
        }
      ],
      "id": "D5XLGg55NwPv"
    },
    {
      "cell_type": "code",
      "source": [
        "def load_alignments(path:str) -> List[str]:\n",
        "    with open(path, 'r') as f:\n",
        "        lines = f.readlines()\n",
        "    tokens = []\n",
        "    for line in lines:\n",
        "        line = line.split()\n",
        "        if line[2] != 'sil':\n",
        "            tokens = [*tokens,' ',line[2]]\n",
        "    return char_to_num(tf.reshape(tf.strings.unicode_split(tokens, input_encoding='UTF-8'), (-1)))[1:]"
      ],
      "metadata": {
        "tags": [],
        "execution": {
          "iopub.status.busy": "2024-05-10T19:07:01.246125Z",
          "iopub.execute_input": "2024-05-10T19:07:01.246517Z",
          "iopub.status.idle": "2024-05-10T19:07:01.253079Z",
          "shell.execute_reply.started": "2024-05-10T19:07:01.246486Z",
          "shell.execute_reply": "2024-05-10T19:07:01.251964Z"
        },
        "trusted": true,
        "id": "FflBA1w8NwPv"
      },
      "execution_count": null,
      "outputs": [],
      "id": "FflBA1w8NwPv"
    },
    {
      "cell_type": "code",
      "source": [
        "/content/data/alignments/s1/bbaf2n.align\n",
        "/content/data/s1/bbaf2n.mpg"
      ],
      "metadata": {
        "id": "q8Qn6T53OoLG"
      },
      "id": "q8Qn6T53OoLG",
      "execution_count": null,
      "outputs": []
    },
    {
      "cell_type": "code",
      "source": [
        "def load_data(path: str):\n",
        "    path = bytes.decode(path.numpy())\n",
        "    #file_name = path.split('/')[-1].split('.')[0]\n",
        "    # File name splitting for windows\n",
        "    file_name = path.split('/')[-1].split('.')[0]\n",
        "    video_path = os.path.join('/content','data','s1',f'{file_name}.mpg')\n",
        "    alignment_path = os.path.join('/content','data','alignments','s1',f'{file_name}.align')\n",
        "    frames = load_video(video_path)\n",
        "    alignments = load_alignments(alignment_path)\n",
        "\n",
        "    return frames, alignments"
      ],
      "metadata": {
        "tags": [],
        "execution": {
          "iopub.status.busy": "2024-05-10T19:27:53.743606Z",
          "iopub.execute_input": "2024-05-10T19:27:53.744302Z",
          "iopub.status.idle": "2024-05-10T19:27:53.750324Z",
          "shell.execute_reply.started": "2024-05-10T19:27:53.744267Z",
          "shell.execute_reply": "2024-05-10T19:27:53.749340Z"
        },
        "trusted": true,
        "id": "QmZ9DWZ1NwPv"
      },
      "execution_count": null,
      "outputs": [],
      "id": "QmZ9DWZ1NwPv"
    },
    {
      "cell_type": "code",
      "source": [
        "test_path = '/content/data/s1/bbaf2n.mpg'"
      ],
      "metadata": {
        "tags": [],
        "execution": {
          "iopub.status.busy": "2024-05-10T19:27:56.714483Z",
          "iopub.execute_input": "2024-05-10T19:27:56.714868Z",
          "iopub.status.idle": "2024-05-10T19:27:56.719351Z",
          "shell.execute_reply.started": "2024-05-10T19:27:56.714836Z",
          "shell.execute_reply": "2024-05-10T19:27:56.718304Z"
        },
        "trusted": true,
        "id": "qfYU9Ur6NwPw"
      },
      "execution_count": null,
      "outputs": [],
      "id": "qfYU9Ur6NwPw"
    },
    {
      "cell_type": "code",
      "source": [
        "tf.convert_to_tensor(test_path).numpy().decode('utf-8').split('/')[-1].split('.')[0]"
      ],
      "metadata": {
        "execution": {
          "iopub.status.busy": "2024-05-10T19:23:11.645475Z",
          "iopub.execute_input": "2024-05-10T19:23:11.646356Z",
          "iopub.status.idle": "2024-05-10T19:23:11.653378Z",
          "shell.execute_reply.started": "2024-05-10T19:23:11.646322Z",
          "shell.execute_reply": "2024-05-10T19:23:11.652331Z"
        },
        "trusted": true,
        "colab": {
          "base_uri": "https://localhost:8080/",
          "height": 36
        },
        "id": "w37E3OnxNwPw",
        "outputId": "4a1a5a8d-0f4e-4b12-85ac-b788339b985a"
      },
      "execution_count": null,
      "outputs": [
        {
          "output_type": "execute_result",
          "data": {
            "text/plain": [
              "'bbaf2n'"
            ],
            "application/vnd.google.colaboratory.intrinsic+json": {
              "type": "string"
            }
          },
          "metadata": {},
          "execution_count": 14
        }
      ],
      "id": "w37E3OnxNwPw"
    },
    {
      "cell_type": "code",
      "source": [
        "frames, alignments = load_data(tf.convert_to_tensor(test_path))"
      ],
      "metadata": {
        "scrolled": true,
        "tags": [],
        "execution": {
          "iopub.status.busy": "2024-05-10T19:28:03.022982Z",
          "iopub.execute_input": "2024-05-10T19:28:03.023358Z",
          "iopub.status.idle": "2024-05-10T19:28:03.301677Z",
          "shell.execute_reply.started": "2024-05-10T19:28:03.023328Z",
          "shell.execute_reply": "2024-05-10T19:28:03.300662Z"
        },
        "trusted": true,
        "id": "AwyL2Uw5NwPx"
      },
      "execution_count": null,
      "outputs": [],
      "id": "AwyL2Uw5NwPx"
    },
    {
      "cell_type": "code",
      "source": [
        "plt.imshow(frames[35])"
      ],
      "metadata": {
        "execution": {
          "iopub.status.busy": "2024-05-10T19:34:20.557916Z",
          "iopub.execute_input": "2024-05-10T19:34:20.558762Z",
          "iopub.status.idle": "2024-05-10T19:34:20.790608Z",
          "shell.execute_reply.started": "2024-05-10T19:34:20.558715Z",
          "shell.execute_reply": "2024-05-10T19:34:20.789606Z"
        },
        "trusted": true,
        "colab": {
          "base_uri": "https://localhost:8080/",
          "height": 244
        },
        "id": "EiHu85zQNwPx",
        "outputId": "ad46b41f-b588-47fe-91a2-cb89d8d02914"
      },
      "execution_count": null,
      "outputs": [
        {
          "output_type": "execute_result",
          "data": {
            "text/plain": [
              "<matplotlib.image.AxesImage at 0x7b64e454e5f0>"
            ]
          },
          "metadata": {},
          "execution_count": 16
        },
        {
          "output_type": "display_data",
          "data": {
            "text/plain": [
              "<Figure size 640x480 with 1 Axes>"
            ],
            "image/png": "[encoded data removed]"
          },
          "metadata": {}
        }
      ],
      "id": "EiHu85zQNwPx"
    },
    {
      "cell_type": "code",
      "source": [
        "alignments"
      ],
      "metadata": {
        "execution": {
          "iopub.status.busy": "2024-05-10T19:34:25.633029Z",
          "iopub.execute_input": "2024-05-10T19:34:25.633413Z",
          "iopub.status.idle": "2024-05-10T19:34:25.640393Z",
          "shell.execute_reply.started": "2024-05-10T19:34:25.633383Z",
          "shell.execute_reply": "2024-05-10T19:34:25.639351Z"
        },
        "trusted": true,
        "colab": {
          "base_uri": "https://localhost:8080/"
        },
        "id": "RI_cLCWNNwPx",
        "outputId": "4aafaf9a-a403-40c5-d595-239553da4581"
      },
      "execution_count": null,
      "outputs": [
        {
          "output_type": "execute_result",
          "data": {
            "text/plain": [
              "<tf.Tensor: shape=(21,), dtype=int64, numpy=\n",
              "array([ 2,  9, 14, 39,  2, 12, 21,  5, 39,  1, 20, 39,  6, 39, 20, 23, 15,\n",
              "       39, 14, 15, 23])>"
            ]
          },
          "metadata": {},
          "execution_count": 17
        }
      ],
      "id": "RI_cLCWNNwPx"
    },
    {
      "cell_type": "code",
      "source": [
        "tf.strings.reduce_join([bytes.decode(x) for x in num_to_char(alignments.numpy()).numpy()])"
      ],
      "metadata": {
        "execution": {
          "iopub.status.busy": "2024-05-10T19:34:35.067091Z",
          "iopub.execute_input": "2024-05-10T19:34:35.067936Z",
          "iopub.status.idle": "2024-05-10T19:34:35.078147Z",
          "shell.execute_reply.started": "2024-05-10T19:34:35.067901Z",
          "shell.execute_reply": "2024-05-10T19:34:35.077154Z"
        },
        "trusted": true,
        "colab": {
          "base_uri": "https://localhost:8080/"
        },
        "id": "Oj2RvdxONwPy",
        "outputId": "1ed64bcf-d405-48b2-96a1-df41525e5de0"
      },
      "execution_count": null,
      "outputs": [
        {
          "output_type": "execute_result",
          "data": {
            "text/plain": [
              "<tf.Tensor: shape=(), dtype=string, numpy=b'bin blue at f two now'>"
            ]
          },
          "metadata": {},
          "execution_count": 18
        }
      ],
      "id": "Oj2RvdxONwPy"
    },
    {
      "cell_type": "code",
      "source": [
        "def mappable_function(path:str) ->List[str]:\n",
        "    result = tf.py_function(load_data, [path], (tf.float32, tf.int64))\n",
        "    return result"
      ],
      "metadata": {
        "tags": [],
        "execution": {
          "iopub.status.busy": "2024-05-10T19:34:47.512983Z",
          "iopub.execute_input": "2024-05-10T19:34:47.513668Z",
          "iopub.status.idle": "2024-05-10T19:34:47.518552Z",
          "shell.execute_reply.started": "2024-05-10T19:34:47.513633Z",
          "shell.execute_reply": "2024-05-10T19:34:47.517476Z"
        },
        "trusted": true,
        "id": "re5udTWvNwPy"
      },
      "execution_count": null,
      "outputs": [],
      "id": "re5udTWvNwPy"
    },
    {
      "cell_type": "markdown",
      "source": [
        "# 2. Create Data Pipeline"
      ],
      "metadata": {
        "tags": [],
        "id": "Vcx0stObNwPy"
      },
      "id": "Vcx0stObNwPy"
    },
    {
      "cell_type": "code",
      "source": [
        "from matplotlib import pyplot as plt"
      ],
      "metadata": {
        "tags": [],
        "execution": {
          "iopub.status.busy": "2024-05-10T19:34:50.767909Z",
          "iopub.execute_input": "2024-05-10T19:34:50.768277Z",
          "iopub.status.idle": "2024-05-10T19:34:50.772521Z",
          "shell.execute_reply.started": "2024-05-10T19:34:50.768249Z",
          "shell.execute_reply": "2024-05-10T19:34:50.771596Z"
        },
        "trusted": true,
        "id": "CVbguQ8ZNwPy"
      },
      "execution_count": null,
      "outputs": [],
      "id": "CVbguQ8ZNwPy"
    },
    {
      "cell_type": "code",
      "source": [
        "data = tf.data.Dataset.list_files('/content/data/s1/*.mpg')\n",
        "data = data.shuffle(500, reshuffle_each_iteration=False)\n",
        "data = data.map(mappable_function)\n",
        "data = data.padded_batch(2, padded_shapes=([75,None,None,None],[40]))\n",
        "data = data.prefetch(tf.data.AUTOTUNE)\n",
        "# Added for split\n",
        "train = data.take(450)\n",
        "test = data.skip(450)"
      ],
      "metadata": {
        "tags": [],
        "execution": {
          "iopub.status.busy": "2024-05-10T19:49:57.380203Z",
          "iopub.execute_input": "2024-05-10T19:49:57.380684Z",
          "iopub.status.idle": "2024-05-10T19:49:57.413023Z",
          "shell.execute_reply.started": "2024-05-10T19:49:57.380649Z",
          "shell.execute_reply": "2024-05-10T19:49:57.412194Z"
        },
        "trusted": true,
        "id": "rA0orymKNwPz"
      },
      "execution_count": null,
      "outputs": [],
      "id": "rA0orymKNwPz"
    },
    {
      "cell_type": "code",
      "source": [
        "from pathlib import Path\n",
        "\n",
        "# Path to the directory\n",
        "folder_path = Path(\"/content/data/alignments/s1/\")\n",
        "\n",
        "# List all files in the directory\n",
        "files = list(folder_path.glob(\"*\"))\n",
        "\n",
        "# Get the number of files\n",
        "num_files = len(files)\n",
        "print(\"Number of files in the folder:\", num_files)\n"
      ],
      "metadata": {
        "execution": {
          "iopub.status.busy": "2024-05-10T19:40:36.145269Z",
          "iopub.execute_input": "2024-05-10T19:40:36.145686Z",
          "iopub.status.idle": "2024-05-10T19:40:36.156064Z",
          "shell.execute_reply.started": "2024-05-10T19:40:36.145653Z",
          "shell.execute_reply": "2024-05-10T19:40:36.155008Z"
        },
        "trusted": true,
        "colab": {
          "base_uri": "https://localhost:8080/"
        },
        "id": "LS04lJY7NwPz",
        "outputId": "0a8e9d65-9794-4baa-c0f2-e40a53cbbab0"
      },
      "execution_count": null,
      "outputs": [
        {
          "output_type": "stream",
          "name": "stdout",
          "text": [
            "Number of files in the folder: 1000\n"
          ]
        }
      ],
      "id": "LS04lJY7NwPz"
    },
    {
      "cell_type": "code",
      "source": [
        "len(train)"
      ],
      "metadata": {
        "execution": {
          "iopub.status.busy": "2024-05-10T19:49:58.922362Z",
          "iopub.execute_input": "2024-05-10T19:49:58.923072Z",
          "iopub.status.idle": "2024-05-10T19:49:58.929623Z",
          "shell.execute_reply.started": "2024-05-10T19:49:58.923040Z",
          "shell.execute_reply": "2024-05-10T19:49:58.928586Z"
        },
        "trusted": true,
        "id": "JJ7F1vz5NwPz",
        "outputId": "b7e73afa-064c-46d8-a013-4e2e797277b2"
      },
      "execution_count": null,
      "outputs": [
        {
          "execution_count": 64,
          "output_type": "execute_result",
          "data": {
            "text/plain": "450"
          },
          "metadata": {}
        }
      ],
      "id": "JJ7F1vz5NwPz"
    },
    {
      "cell_type": "code",
      "source": [
        "frames, alignments = data.as_numpy_iterator().next()\n",
        "alignments"
      ],
      "metadata": {
        "execution": {
          "iopub.status.busy": "2024-05-10T19:50:48.686858Z",
          "iopub.execute_input": "2024-05-10T19:50:48.687769Z",
          "iopub.status.idle": "2024-05-10T19:50:49.437706Z",
          "shell.execute_reply.started": "2024-05-10T19:50:48.687728Z",
          "shell.execute_reply": "2024-05-10T19:50:49.436751Z"
        },
        "trusted": true,
        "colab": {
          "base_uri": "https://localhost:8080/"
        },
        "id": "HujSQ1-lNwP0",
        "outputId": "d08fe80d-9b61-4ba1-a28d-cbefd1829a5d"
      },
      "execution_count": null,
      "outputs": [
        {
          "output_type": "execute_result",
          "data": {
            "text/plain": [
              "array([[12,  1, 25, 39, 18,  5,  4, 39,  1, 20, 39, 18, 39, 20, 23, 15,\n",
              "        39, 16, 12,  5,  1, 19,  5,  0,  0,  0,  0,  0,  0,  0,  0,  0,\n",
              "         0,  0,  0,  0,  0,  0,  0,  0],\n",
              "       [16, 12,  1,  3,  5, 39,  7, 18,  5,  5, 14, 39,  9, 14, 39, 24,\n",
              "        39, 19,  9, 24, 39, 14, 15, 23,  0,  0,  0,  0,  0,  0,  0,  0,\n",
              "         0,  0,  0,  0,  0,  0,  0,  0]])"
            ]
          },
          "metadata": {},
          "execution_count": 23
        }
      ],
      "id": "HujSQ1-lNwP0"
    },
    {
      "cell_type": "code",
      "source": [
        "len(frames)"
      ],
      "metadata": {
        "execution": {
          "iopub.status.busy": "2024-05-10T19:50:58.690126Z",
          "iopub.execute_input": "2024-05-10T19:50:58.690887Z",
          "iopub.status.idle": "2024-05-10T19:50:58.696892Z",
          "shell.execute_reply.started": "2024-05-10T19:50:58.690848Z",
          "shell.execute_reply": "2024-05-10T19:50:58.695849Z"
        },
        "trusted": true,
        "id": "pHeTZWrENwP0",
        "outputId": "3803e8e1-6949-44b0-ab48-71b2609cd13e"
      },
      "execution_count": null,
      "outputs": [
        {
          "execution_count": 71,
          "output_type": "execute_result",
          "data": {
            "text/plain": "2"
          },
          "metadata": {}
        }
      ],
      "id": "pHeTZWrENwP0"
    },
    {
      "cell_type": "code",
      "source": [
        "sample = data.as_numpy_iterator()\n",
        "sample"
      ],
      "metadata": {
        "tags": [],
        "execution": {
          "iopub.status.busy": "2024-05-10T19:51:17.217923Z",
          "iopub.execute_input": "2024-05-10T19:51:17.218299Z",
          "iopub.status.idle": "2024-05-10T19:51:17.232569Z",
          "shell.execute_reply.started": "2024-05-10T19:51:17.218269Z",
          "shell.execute_reply": "2024-05-10T19:51:17.231491Z"
        },
        "trusted": true,
        "colab": {
          "base_uri": "https://localhost:8080/"
        },
        "id": "hjB9QzO7NwP0",
        "outputId": "78993978-9093-4052-a47f-260769fc27d9"
      },
      "execution_count": null,
      "outputs": [
        {
          "output_type": "execute_result",
          "data": {
            "text/plain": [
              "<tensorflow.python.data.ops.dataset_ops.NumpyIterator at 0x7b647c3387c0>"
            ]
          },
          "metadata": {},
          "execution_count": 24
        }
      ],
      "id": "hjB9QzO7NwP0"
    },
    {
      "cell_type": "code",
      "source": [
        "val = sample.next(); val[0]"
      ],
      "metadata": {
        "scrolled": true,
        "tags": [],
        "execution": {
          "iopub.status.busy": "2024-05-10T19:51:22.959336Z",
          "iopub.execute_input": "2024-05-10T19:51:22.960092Z",
          "iopub.status.idle": "2024-05-10T19:51:23.474363Z",
          "shell.execute_reply.started": "2024-05-10T19:51:22.960062Z",
          "shell.execute_reply": "2024-05-10T19:51:23.472213Z"
        },
        "trusted": true,
        "colab": {
          "base_uri": "https://localhost:8080/"
        },
        "id": "5xDUOQJkNwP1",
        "outputId": "7f528dbd-2708-452a-8fbf-7f90f86de95d"
      },
      "execution_count": null,
      "outputs": [
        {
          "output_type": "execute_result",
          "data": {
            "text/plain": [
              "array([[[[[ 1.5239339 ],\n",
              "          [ 1.5239339 ],\n",
              "          [ 1.5651213 ],\n",
              "          ...,\n",
              "          [ 0.0411874 ],\n",
              "          [ 0.0823748 ],\n",
              "          [ 0.0823748 ]],\n",
              "\n",
              "         [[ 1.5239339 ],\n",
              "          [ 1.5239339 ],\n",
              "          [ 1.5651213 ],\n",
              "          ...,\n",
              "          [ 0.0411874 ],\n",
              "          [ 0.0823748 ],\n",
              "          [ 0.0823748 ]],\n",
              "\n",
              "         [[ 1.4415591 ],\n",
              "          [ 1.4415591 ],\n",
              "          [ 1.4415591 ],\n",
              "          ...,\n",
              "          [ 0.0411874 ],\n",
              "          [ 0.        ],\n",
              "          [ 0.        ]],\n",
              "\n",
              "         ...,\n",
              "\n",
              "         [[ 0.9884977 ],\n",
              "          [ 0.9884977 ],\n",
              "          [ 0.9884977 ],\n",
              "          ...,\n",
              "          [10.296851  ],\n",
              "          [10.296851  ],\n",
              "          [10.296851  ]],\n",
              "\n",
              "         [[ 0.9884977 ],\n",
              "          [ 0.9884977 ],\n",
              "          [ 0.9884977 ],\n",
              "          ...,\n",
              "          [10.255663  ],\n",
              "          [10.255663  ],\n",
              "          [10.255663  ]],\n",
              "\n",
              "         [[ 0.9884977 ],\n",
              "          [ 0.9884977 ],\n",
              "          [ 0.9884977 ],\n",
              "          ...,\n",
              "          [10.255663  ],\n",
              "          [10.255663  ],\n",
              "          [10.255663  ]]],\n",
              "\n",
              "\n",
              "        [[[ 1.4827465 ],\n",
              "          [ 1.4827465 ],\n",
              "          [ 1.4827465 ],\n",
              "          ...,\n",
              "          [ 0.        ],\n",
              "          [ 0.        ],\n",
              "          [ 0.        ]],\n",
              "\n",
              "         [[ 1.4827465 ],\n",
              "          [ 1.4827465 ],\n",
              "          [ 1.4827465 ],\n",
              "          ...,\n",
              "          [ 0.        ],\n",
              "          [ 0.        ],\n",
              "          [ 0.        ]],\n",
              "\n",
              "         [[ 1.4415591 ],\n",
              "          [ 1.4415591 ],\n",
              "          [ 1.4827465 ],\n",
              "          ...,\n",
              "          [ 0.        ],\n",
              "          [ 0.        ],\n",
              "          [ 0.        ]],\n",
              "\n",
              "         ...,\n",
              "\n",
              "         [[ 0.9884977 ],\n",
              "          [ 0.9884977 ],\n",
              "          [ 0.94731027],\n",
              "          ...,\n",
              "          [10.338038  ],\n",
              "          [10.296851  ],\n",
              "          [10.296851  ]],\n",
              "\n",
              "         [[ 0.9884977 ],\n",
              "          [ 0.9884977 ],\n",
              "          [ 0.94731027],\n",
              "          ...,\n",
              "          [10.296851  ],\n",
              "          [10.255663  ],\n",
              "          [10.255663  ]],\n",
              "\n",
              "         [[ 0.9884977 ],\n",
              "          [ 0.9884977 ],\n",
              "          [ 0.94731027],\n",
              "          ...,\n",
              "          [10.296851  ],\n",
              "          [10.255663  ],\n",
              "          [10.255663  ]]],\n",
              "\n",
              "\n",
              "        [[[ 1.4827465 ],\n",
              "          [ 1.4827465 ],\n",
              "          [ 1.4827465 ],\n",
              "          ...,\n",
              "          [ 0.        ],\n",
              "          [ 0.        ],\n",
              "          [ 0.        ]],\n",
              "\n",
              "         [[ 1.4827465 ],\n",
              "          [ 1.4827465 ],\n",
              "          [ 1.4827465 ],\n",
              "          ...,\n",
              "          [ 0.        ],\n",
              "          [ 0.        ],\n",
              "          [ 0.        ]],\n",
              "\n",
              "         [[ 1.4415591 ],\n",
              "          [ 1.4415591 ],\n",
              "          [ 1.4003717 ],\n",
              "          ...,\n",
              "          [ 0.        ],\n",
              "          [ 0.        ],\n",
              "          [ 0.        ]],\n",
              "\n",
              "         ...,\n",
              "\n",
              "         [[ 0.9884977 ],\n",
              "          [ 0.9884977 ],\n",
              "          [ 0.94731027],\n",
              "          ...,\n",
              "          [10.338038  ],\n",
              "          [10.296851  ],\n",
              "          [10.296851  ]],\n",
              "\n",
              "         [[ 0.9884977 ],\n",
              "          [ 0.9884977 ],\n",
              "          [ 0.94731027],\n",
              "          ...,\n",
              "          [10.296851  ],\n",
              "          [10.255663  ],\n",
              "          [10.255663  ]],\n",
              "\n",
              "         [[ 0.94731027],\n",
              "          [ 0.94731027],\n",
              "          [ 0.94731027],\n",
              "          ...,\n",
              "          [10.296851  ],\n",
              "          [10.255663  ],\n",
              "          [10.255663  ]]],\n",
              "\n",
              "\n",
              "        ...,\n",
              "\n",
              "\n",
              "        [[[ 1.4003717 ],\n",
              "          [ 1.4003717 ],\n",
              "          [ 1.4415591 ],\n",
              "          ...,\n",
              "          [ 0.0411874 ],\n",
              "          [10.502788  ],\n",
              "          [10.502788  ]],\n",
              "\n",
              "         [[ 1.4003717 ],\n",
              "          [ 1.3591843 ],\n",
              "          [ 1.4003717 ],\n",
              "          ...,\n",
              "          [ 0.0411874 ],\n",
              "          [10.502788  ],\n",
              "          [10.502788  ]],\n",
              "\n",
              "         [[ 1.4827465 ],\n",
              "          [ 1.4827465 ],\n",
              "          [ 1.4827465 ],\n",
              "          ...,\n",
              "          [10.502788  ],\n",
              "          [10.502788  ],\n",
              "          [10.502788  ]],\n",
              "\n",
              "         ...,\n",
              "\n",
              "         [[ 1.029685  ],\n",
              "          [ 0.9884977 ],\n",
              "          [ 0.94731027],\n",
              "          ...,\n",
              "          [10.296851  ],\n",
              "          [10.296851  ],\n",
              "          [10.296851  ]],\n",
              "\n",
              "         [[ 1.029685  ],\n",
              "          [ 0.9884977 ],\n",
              "          [ 0.94731027],\n",
              "          ...,\n",
              "          [10.296851  ],\n",
              "          [10.296851  ],\n",
              "          [10.255663  ]],\n",
              "\n",
              "         [[ 1.029685  ],\n",
              "          [ 0.9884977 ],\n",
              "          [ 0.94731027],\n",
              "          ...,\n",
              "          [10.296851  ],\n",
              "          [10.255663  ],\n",
              "          [10.255663  ]]],\n",
              "\n",
              "\n",
              "        [[[ 1.4827465 ],\n",
              "          [ 1.4827465 ],\n",
              "          [ 1.4415591 ],\n",
              "          ...,\n",
              "          [ 0.        ],\n",
              "          [ 0.0411874 ],\n",
              "          [ 0.0411874 ]],\n",
              "\n",
              "         [[ 1.4827465 ],\n",
              "          [ 1.4415591 ],\n",
              "          [ 1.4003717 ],\n",
              "          ...,\n",
              "          [ 0.        ],\n",
              "          [ 0.0411874 ],\n",
              "          [ 0.0411874 ]],\n",
              "\n",
              "         [[ 1.4415591 ],\n",
              "          [ 1.4415591 ],\n",
              "          [ 1.4415591 ],\n",
              "          ...,\n",
              "          [ 0.        ],\n",
              "          [ 0.0411874 ],\n",
              "          [ 0.0411874 ]],\n",
              "\n",
              "         ...,\n",
              "\n",
              "         [[ 0.9884977 ],\n",
              "          [ 0.9884977 ],\n",
              "          [ 1.029685  ],\n",
              "          ...,\n",
              "          [10.255663  ],\n",
              "          [10.255663  ],\n",
              "          [10.255663  ]],\n",
              "\n",
              "         [[ 0.9884977 ],\n",
              "          [ 0.9884977 ],\n",
              "          [ 1.029685  ],\n",
              "          ...,\n",
              "          [10.255663  ],\n",
              "          [10.255663  ],\n",
              "          [10.214476  ]],\n",
              "\n",
              "         [[ 0.9884977 ],\n",
              "          [ 0.9884977 ],\n",
              "          [ 0.9884977 ],\n",
              "          ...,\n",
              "          [10.255663  ],\n",
              "          [10.214476  ],\n",
              "          [10.214476  ]]],\n",
              "\n",
              "\n",
              "        [[[ 1.5239339 ],\n",
              "          [ 1.5239339 ],\n",
              "          [ 1.4415591 ],\n",
              "          ...,\n",
              "          [ 0.        ],\n",
              "          [ 0.0411874 ],\n",
              "          [ 0.0411874 ]],\n",
              "\n",
              "         [[ 1.5239339 ],\n",
              "          [ 1.4827465 ],\n",
              "          [ 1.4003717 ],\n",
              "          ...,\n",
              "          [ 0.        ],\n",
              "          [ 0.0411874 ],\n",
              "          [ 0.0411874 ]],\n",
              "\n",
              "         [[ 1.4415591 ],\n",
              "          [ 1.4415591 ],\n",
              "          [ 1.4003717 ],\n",
              "          ...,\n",
              "          [ 0.        ],\n",
              "          [ 0.0411874 ],\n",
              "          [ 0.0411874 ]],\n",
              "\n",
              "         ...,\n",
              "\n",
              "         [[ 1.029685  ],\n",
              "          [ 1.029685  ],\n",
              "          [ 1.0708724 ],\n",
              "          ...,\n",
              "          [10.255663  ],\n",
              "          [10.255663  ],\n",
              "          [10.214476  ]],\n",
              "\n",
              "         [[ 1.029685  ],\n",
              "          [ 1.029685  ],\n",
              "          [ 1.0708724 ],\n",
              "          ...,\n",
              "          [10.255663  ],\n",
              "          [10.255663  ],\n",
              "          [10.214476  ]],\n",
              "\n",
              "         [[ 1.029685  ],\n",
              "          [ 1.029685  ],\n",
              "          [ 1.029685  ],\n",
              "          ...,\n",
              "          [10.255663  ],\n",
              "          [10.214476  ],\n",
              "          [10.214476  ]]]],\n",
              "\n",
              "\n",
              "\n",
              "       [[[[ 1.3094219 ],\n",
              "          [ 1.3094219 ],\n",
              "          [ 1.3491013 ],\n",
              "          ...,\n",
              "          [ 9.126274  ],\n",
              "          [ 9.681787  ],\n",
              "          [ 9.840504  ]],\n",
              "\n",
              "         [[ 1.3094219 ],\n",
              "          [ 1.3094219 ],\n",
              "          [ 1.3491013 ],\n",
              "          ...,\n",
              "          [ 8.967556  ],\n",
              "          [ 9.562748  ],\n",
              "          [ 9.721465  ]],\n",
              "\n",
              "         [[ 1.230063  ],\n",
              "          [ 1.230063  ],\n",
              "          [ 1.230063  ],\n",
              "          ...,\n",
              "          [10.078581  ],\n",
              "          [10.078581  ],\n",
              "          [10.078581  ]],\n",
              "\n",
              "         ...,\n",
              "\n",
              "         [[ 0.9523068 ],\n",
              "          [ 0.9523068 ],\n",
              "          [ 0.9126274 ],\n",
              "          ...,\n",
              "          [ 9.919863  ],\n",
              "          [ 9.880183  ],\n",
              "          [ 9.880183  ]],\n",
              "\n",
              "         [[ 0.9523068 ],\n",
              "          [ 0.9523068 ],\n",
              "          [ 0.9126274 ],\n",
              "          ...,\n",
              "          [ 9.919863  ],\n",
              "          [ 9.840504  ],\n",
              "          [ 9.840504  ]],\n",
              "\n",
              "         [[ 0.9523068 ],\n",
              "          [ 0.9523068 ],\n",
              "          [ 0.9126274 ],\n",
              "          ...,\n",
              "          [ 9.919863  ],\n",
              "          [ 9.840504  ],\n",
              "          [ 9.840504  ]]],\n",
              "\n",
              "\n",
              "        [[[ 1.3094219 ],\n",
              "          [ 1.3094219 ],\n",
              "          [ 1.2697425 ],\n",
              "          ...,\n",
              "          [ 9.324671  ],\n",
              "          [ 9.919863  ],\n",
              "          [ 9.880183  ]],\n",
              "\n",
              "         [[ 1.3094219 ],\n",
              "          [ 1.3094219 ],\n",
              "          [ 1.2697425 ],\n",
              "          ...,\n",
              "          [ 9.324671  ],\n",
              "          [ 9.840504  ],\n",
              "          [ 9.919863  ]],\n",
              "\n",
              "         [[ 1.3094219 ],\n",
              "          [ 1.3094219 ],\n",
              "          [ 1.230063  ],\n",
              "          ...,\n",
              "          [10.078581  ],\n",
              "          [10.11826   ],\n",
              "          [10.11826   ]],\n",
              "\n",
              "         ...,\n",
              "\n",
              "         [[ 0.9523068 ],\n",
              "          [ 0.9523068 ],\n",
              "          [ 0.9126274 ],\n",
              "          ...,\n",
              "          [ 9.840504  ],\n",
              "          [ 9.800824  ],\n",
              "          [ 9.800824  ]],\n",
              "\n",
              "         [[ 0.9126274 ],\n",
              "          [ 0.9126274 ],\n",
              "          [ 0.87294793],\n",
              "          ...,\n",
              "          [ 9.880183  ],\n",
              "          [ 9.800824  ],\n",
              "          [ 9.800824  ]],\n",
              "\n",
              "         [[ 0.9126274 ],\n",
              "          [ 0.9126274 ],\n",
              "          [ 0.87294793],\n",
              "          ...,\n",
              "          [ 9.880183  ],\n",
              "          [ 9.800824  ],\n",
              "          [ 9.800824  ]]],\n",
              "\n",
              "\n",
              "        [[[ 1.3491013 ],\n",
              "          [ 1.3491013 ],\n",
              "          [ 1.2697425 ],\n",
              "          ...,\n",
              "          [ 9.284991  ],\n",
              "          [ 9.919863  ],\n",
              "          [ 9.919863  ]],\n",
              "\n",
              "         [[ 1.3491013 ],\n",
              "          [ 1.3491013 ],\n",
              "          [ 1.2697425 ],\n",
              "          ...,\n",
              "          [ 9.324671  ],\n",
              "          [ 9.919863  ],\n",
              "          [ 9.959542  ]],\n",
              "\n",
              "         [[ 1.3094219 ],\n",
              "          [ 1.3094219 ],\n",
              "          [ 1.230063  ],\n",
              "          ...,\n",
              "          [10.038901  ],\n",
              "          [10.078581  ],\n",
              "          [10.078581  ]],\n",
              "\n",
              "         ...,\n",
              "\n",
              "         [[ 0.9523068 ],\n",
              "          [ 0.9523068 ],\n",
              "          [ 0.9523068 ],\n",
              "          ...,\n",
              "          [ 9.840504  ],\n",
              "          [ 9.840504  ],\n",
              "          [ 9.840504  ]],\n",
              "\n",
              "         [[ 0.9523068 ],\n",
              "          [ 0.9523068 ],\n",
              "          [ 0.9126274 ],\n",
              "          ...,\n",
              "          [ 9.880183  ],\n",
              "          [ 9.840504  ],\n",
              "          [ 9.840504  ]],\n",
              "\n",
              "         [[ 0.9523068 ],\n",
              "          [ 0.9523068 ],\n",
              "          [ 0.9126274 ],\n",
              "          ...,\n",
              "          [ 9.880183  ],\n",
              "          [ 9.840504  ],\n",
              "          [ 9.840504  ]]],\n",
              "\n",
              "\n",
              "        ...,\n",
              "\n",
              "\n",
              "        [[[ 1.3491013 ],\n",
              "          [ 1.3491013 ],\n",
              "          [ 1.3491013 ],\n",
              "          ...,\n",
              "          [ 9.205632  ],\n",
              "          [ 9.681787  ],\n",
              "          [ 9.880183  ]],\n",
              "\n",
              "         [[ 1.3491013 ],\n",
              "          [ 1.3491013 ],\n",
              "          [ 1.3491013 ],\n",
              "          ...,\n",
              "          [ 9.284991  ],\n",
              "          [ 9.880183  ],\n",
              "          [ 9.880183  ]],\n",
              "\n",
              "         [[ 1.2697425 ],\n",
              "          [ 1.2697425 ],\n",
              "          [ 1.2697425 ],\n",
              "          ...,\n",
              "          [10.078581  ],\n",
              "          [10.11826   ],\n",
              "          [10.11826   ]],\n",
              "\n",
              "         ...,\n",
              "\n",
              "         [[ 0.9126274 ],\n",
              "          [ 0.9126274 ],\n",
              "          [ 0.9126274 ],\n",
              "          ...,\n",
              "          [ 9.880183  ],\n",
              "          [ 9.880183  ],\n",
              "          [ 9.880183  ]],\n",
              "\n",
              "         [[ 0.9126274 ],\n",
              "          [ 0.9126274 ],\n",
              "          [ 0.9126274 ],\n",
              "          ...,\n",
              "          [ 9.840504  ],\n",
              "          [ 9.840504  ],\n",
              "          [ 9.840504  ]],\n",
              "\n",
              "         [[ 0.9126274 ],\n",
              "          [ 0.9126274 ],\n",
              "          [ 0.9126274 ],\n",
              "          ...,\n",
              "          [ 9.840504  ],\n",
              "          [ 9.840504  ],\n",
              "          [ 9.840504  ]]],\n",
              "\n",
              "\n",
              "        [[[ 1.3887808 ],\n",
              "          [ 1.3887808 ],\n",
              "          [ 1.3094219 ],\n",
              "          ...,\n",
              "          [ 9.205632  ],\n",
              "          [ 9.840504  ],\n",
              "          [ 9.840504  ]],\n",
              "\n",
              "         [[ 1.3887808 ],\n",
              "          [ 1.3491013 ],\n",
              "          [ 1.2697425 ],\n",
              "          ...,\n",
              "          [ 9.324671  ],\n",
              "          [ 9.880183  ],\n",
              "          [ 9.880183  ]],\n",
              "\n",
              "         [[ 1.230063  ],\n",
              "          [ 1.230063  ],\n",
              "          [ 1.230063  ],\n",
              "          ...,\n",
              "          [10.078581  ],\n",
              "          [10.11826   ],\n",
              "          [10.11826   ]],\n",
              "\n",
              "         ...,\n",
              "\n",
              "         [[ 0.9126274 ],\n",
              "          [ 0.9126274 ],\n",
              "          [ 0.9126274 ],\n",
              "          ...,\n",
              "          [ 9.880183  ],\n",
              "          [ 9.880183  ],\n",
              "          [ 9.880183  ]],\n",
              "\n",
              "         [[ 0.9126274 ],\n",
              "          [ 0.9126274 ],\n",
              "          [ 0.9126274 ],\n",
              "          ...,\n",
              "          [ 9.840504  ],\n",
              "          [ 9.840504  ],\n",
              "          [ 9.840504  ]],\n",
              "\n",
              "         [[ 0.9126274 ],\n",
              "          [ 0.9126274 ],\n",
              "          [ 0.9126274 ],\n",
              "          ...,\n",
              "          [ 9.840504  ],\n",
              "          [ 9.840504  ],\n",
              "          [ 9.840504  ]]],\n",
              "\n",
              "\n",
              "        [[[ 1.3887808 ],\n",
              "          [ 1.3887808 ],\n",
              "          [ 1.3491013 ],\n",
              "          ...,\n",
              "          [ 9.126274  ],\n",
              "          [ 9.880183  ],\n",
              "          [ 9.919863  ]],\n",
              "\n",
              "         [[ 1.3887808 ],\n",
              "          [ 1.3491013 ],\n",
              "          [ 1.3094219 ],\n",
              "          ...,\n",
              "          [ 9.284991  ],\n",
              "          [ 9.880183  ],\n",
              "          [ 9.959542  ]],\n",
              "\n",
              "         [[ 1.230063  ],\n",
              "          [ 1.230063  ],\n",
              "          [ 1.230063  ],\n",
              "          ...,\n",
              "          [10.078581  ],\n",
              "          [10.11826   ],\n",
              "          [10.11826   ]],\n",
              "\n",
              "         ...,\n",
              "\n",
              "         [[ 0.9126274 ],\n",
              "          [ 0.9126274 ],\n",
              "          [ 0.9126274 ],\n",
              "          ...,\n",
              "          [ 9.880183  ],\n",
              "          [ 9.880183  ],\n",
              "          [ 9.880183  ]],\n",
              "\n",
              "         [[ 0.9126274 ],\n",
              "          [ 0.9126274 ],\n",
              "          [ 0.9126274 ],\n",
              "          ...,\n",
              "          [ 9.840504  ],\n",
              "          [ 9.840504  ],\n",
              "          [ 9.840504  ]],\n",
              "\n",
              "         [[ 0.9126274 ],\n",
              "          [ 0.9126274 ],\n",
              "          [ 0.9126274 ],\n",
              "          ...,\n",
              "          [ 9.840504  ],\n",
              "          [ 9.840504  ],\n",
              "          [ 9.840504  ]]]]], dtype=float32)"
            ]
          },
          "metadata": {},
          "execution_count": 25
        }
      ],
      "id": "5xDUOQJkNwP1"
    },
    {
      "cell_type": "code",
      "source": [
        "imageio.mimsave('./animation.gif', val[0][0], fps=10)"
      ],
      "metadata": {
        "tags": [],
        "execution": {
          "iopub.status.busy": "2024-05-10T19:51:37.679135Z",
          "iopub.execute_input": "2024-05-10T19:51:37.679860Z",
          "iopub.status.idle": "2024-05-10T19:51:38.159449Z",
          "shell.execute_reply.started": "2024-05-10T19:51:37.679824Z",
          "shell.execute_reply": "2024-05-10T19:51:38.157963Z"
        },
        "trusted": true,
        "id": "ppI9ulZZNwP1",
        "outputId": "4b0e5f8b-5148-4a17-ed61-0f7fe57fd539"
      },
      "execution_count": null,
      "outputs": [
        {
          "traceback": [
            "\u001b[0;31m---------------------------------------------------------------------------\u001b[0m",
            "\u001b[0;31mKeyError\u001b[0m                                  Traceback (most recent call last)",
            "File \u001b[0;32m/opt/conda/lib/python3.10/site-packages/PIL/Image.py:3089\u001b[0m, in \u001b[0;36mfromarray\u001b[0;34m(obj, mode)\u001b[0m\n\u001b[1;32m   3088\u001b[0m \u001b[38;5;28;01mtry\u001b[39;00m:\n\u001b[0;32m-> 3089\u001b[0m     mode, rawmode \u001b[38;5;241m=\u001b[39m \u001b[43m_fromarray_typemap\u001b[49m\u001b[43m[\u001b[49m\u001b[43mtypekey\u001b[49m\u001b[43m]\u001b[49m\n\u001b[1;32m   3090\u001b[0m \u001b[38;5;28;01mexcept\u001b[39;00m \u001b[38;5;167;01mKeyError\u001b[39;00m \u001b[38;5;28;01mas\u001b[39;00m e:\n",
            "\u001b[0;31mKeyError\u001b[0m: ((1, 1, 1), '<f4')",
            "\nThe above exception was the direct cause of the following exception:\n",
            "\u001b[0;31mTypeError\u001b[0m                                 Traceback (most recent call last)",
            "Cell \u001b[0;32mIn[75], line 1\u001b[0m\n\u001b[0;32m----> 1\u001b[0m \u001b[43mimageio\u001b[49m\u001b[38;5;241;43m.\u001b[39;49m\u001b[43mmimsave\u001b[49m\u001b[43m(\u001b[49m\u001b[38;5;124;43m'\u001b[39;49m\u001b[38;5;124;43m./animation.gif\u001b[39;49m\u001b[38;5;124;43m'\u001b[39;49m\u001b[43m,\u001b[49m\u001b[43m \u001b[49m\u001b[43mval\u001b[49m\u001b[43m[\u001b[49m\u001b[38;5;241;43m0\u001b[39;49m\u001b[43m]\u001b[49m\u001b[43m[\u001b[49m\u001b[38;5;241;43m0\u001b[39;49m\u001b[43m]\u001b[49m\u001b[43m,\u001b[49m\u001b[43m \u001b[49m\u001b[43mfps\u001b[49m\u001b[38;5;241;43m=\u001b[39;49m\u001b[38;5;241;43m10\u001b[39;49m\u001b[43m)\u001b[49m\n",
            "File \u001b[0;32m/opt/conda/lib/python3.10/site-packages/imageio/v2.py:495\u001b[0m, in \u001b[0;36mmimwrite\u001b[0;34m(uri, ims, format, **kwargs)\u001b[0m\n\u001b[1;32m    493\u001b[0m imopen_args[\u001b[38;5;124m\"\u001b[39m\u001b[38;5;124mlegacy_mode\u001b[39m\u001b[38;5;124m\"\u001b[39m] \u001b[38;5;241m=\u001b[39m \u001b[38;5;28;01mTrue\u001b[39;00m\n\u001b[1;32m    494\u001b[0m \u001b[38;5;28;01mwith\u001b[39;00m imopen(uri, \u001b[38;5;124m\"\u001b[39m\u001b[38;5;124mwI\u001b[39m\u001b[38;5;124m\"\u001b[39m, \u001b[38;5;241m*\u001b[39m\u001b[38;5;241m*\u001b[39mimopen_args) \u001b[38;5;28;01mas\u001b[39;00m file:\n\u001b[0;32m--> 495\u001b[0m     \u001b[38;5;28;01mreturn\u001b[39;00m \u001b[43mfile\u001b[49m\u001b[38;5;241;43m.\u001b[39;49m\u001b[43mwrite\u001b[49m\u001b[43m(\u001b[49m\u001b[43mims\u001b[49m\u001b[43m,\u001b[49m\u001b[43m \u001b[49m\u001b[43mis_batch\u001b[49m\u001b[38;5;241;43m=\u001b[39;49m\u001b[38;5;28;43;01mTrue\u001b[39;49;00m\u001b[43m,\u001b[49m\u001b[43m \u001b[49m\u001b[38;5;241;43m*\u001b[39;49m\u001b[38;5;241;43m*\u001b[39;49m\u001b[43mkwargs\u001b[49m\u001b[43m)\u001b[49m\n",
            "File \u001b[0;32m/opt/conda/lib/python3.10/site-packages/imageio/plugins/pillow.py:444\u001b[0m, in \u001b[0;36mPillowPlugin.write\u001b[0;34m(self, ndimage, mode, format, is_batch, **kwargs)\u001b[0m\n\u001b[1;32m    441\u001b[0m     ndimage \u001b[38;5;241m=\u001b[39m ndimage[\u001b[38;5;28;01mNone\u001b[39;00m, \u001b[38;5;241m.\u001b[39m\u001b[38;5;241m.\u001b[39m\u001b[38;5;241m.\u001b[39m]\n\u001b[1;32m    443\u001b[0m \u001b[38;5;28;01mfor\u001b[39;00m frame \u001b[38;5;129;01min\u001b[39;00m ndimage:\n\u001b[0;32m--> 444\u001b[0m     pil_frame \u001b[38;5;241m=\u001b[39m \u001b[43mImage\u001b[49m\u001b[38;5;241;43m.\u001b[39;49m\u001b[43mfromarray\u001b[49m\u001b[43m(\u001b[49m\u001b[43mframe\u001b[49m\u001b[43m,\u001b[49m\u001b[43m \u001b[49m\u001b[43mmode\u001b[49m\u001b[38;5;241;43m=\u001b[39;49m\u001b[43mmode\u001b[49m\u001b[43m)\u001b[49m\n\u001b[1;32m    445\u001b[0m     \u001b[38;5;28;01mif\u001b[39;00m \u001b[38;5;124m\"\u001b[39m\u001b[38;5;124mbits\u001b[39m\u001b[38;5;124m\"\u001b[39m \u001b[38;5;129;01min\u001b[39;00m kwargs:\n\u001b[1;32m    446\u001b[0m         pil_frame \u001b[38;5;241m=\u001b[39m pil_frame\u001b[38;5;241m.\u001b[39mquantize(colors\u001b[38;5;241m=\u001b[39m\u001b[38;5;241m2\u001b[39m \u001b[38;5;241m*\u001b[39m\u001b[38;5;241m*\u001b[39m kwargs[\u001b[38;5;124m\"\u001b[39m\u001b[38;5;124mbits\u001b[39m\u001b[38;5;124m\"\u001b[39m])\n",
            "File \u001b[0;32m/opt/conda/lib/python3.10/site-packages/PIL/Image.py:3092\u001b[0m, in \u001b[0;36mfromarray\u001b[0;34m(obj, mode)\u001b[0m\n\u001b[1;32m   3090\u001b[0m     \u001b[38;5;28;01mexcept\u001b[39;00m \u001b[38;5;167;01mKeyError\u001b[39;00m \u001b[38;5;28;01mas\u001b[39;00m e:\n\u001b[1;32m   3091\u001b[0m         msg \u001b[38;5;241m=\u001b[39m \u001b[38;5;124m\"\u001b[39m\u001b[38;5;124mCannot handle this data type: \u001b[39m\u001b[38;5;132;01m%s\u001b[39;00m\u001b[38;5;124m, \u001b[39m\u001b[38;5;132;01m%s\u001b[39;00m\u001b[38;5;124m\"\u001b[39m \u001b[38;5;241m%\u001b[39m typekey\n\u001b[0;32m-> 3092\u001b[0m         \u001b[38;5;28;01mraise\u001b[39;00m \u001b[38;5;167;01mTypeError\u001b[39;00m(msg) \u001b[38;5;28;01mfrom\u001b[39;00m \u001b[38;5;21;01me\u001b[39;00m\n\u001b[1;32m   3093\u001b[0m \u001b[38;5;28;01melse\u001b[39;00m:\n\u001b[1;32m   3094\u001b[0m     rawmode \u001b[38;5;241m=\u001b[39m mode\n",
            "\u001b[0;31mTypeError\u001b[0m: Cannot handle this data type: (1, 1, 1), <f4"
          ],
          "ename": "TypeError",
          "evalue": "Cannot handle this data type: (1, 1, 1), <f4",
          "output_type": "error"
        }
      ],
      "id": "ppI9ulZZNwP1"
    },
    {
      "cell_type": "code",
      "source": [
        "# 0:videos, 0: 1st video out of the batch,  0: return the first frame in the video\n",
        "plt.imshow(val[0][0][35])"
      ],
      "metadata": {
        "tags": [],
        "execution": {
          "iopub.status.busy": "2024-05-10T19:51:59.542986Z",
          "iopub.execute_input": "2024-05-10T19:51:59.543918Z",
          "iopub.status.idle": "2024-05-10T19:51:59.764535Z",
          "shell.execute_reply.started": "2024-05-10T19:51:59.543883Z",
          "shell.execute_reply": "2024-05-10T19:51:59.763595Z"
        },
        "trusted": true,
        "colab": {
          "base_uri": "https://localhost:8080/",
          "height": 244
        },
        "id": "NnTsC7oNNwP1",
        "outputId": "0a2ad84d-8f91-41c9-ff8c-0ed14e298e40"
      },
      "execution_count": null,
      "outputs": [
        {
          "output_type": "execute_result",
          "data": {
            "text/plain": [
              "<matplotlib.image.AxesImage at 0x7b647c2571c0>"
            ]
          },
          "metadata": {},
          "execution_count": 27
        },
        {
          "output_type": "display_data",
          "data": {
            "text/plain": [
              "<Figure size 640x480 with 1 Axes>"
            ],
            "image/png": "[encoded data removed]"
          },
          "metadata": {}
        }
      ],
      "id": "NnTsC7oNNwP1"
    },
    {
      "cell_type": "code",
      "source": [
        "tf.strings.reduce_join([num_to_char(word) for word in val[1][0]])"
      ],
      "metadata": {
        "tags": [],
        "execution": {
          "iopub.status.busy": "2024-05-10T19:52:07.755231Z",
          "iopub.execute_input": "2024-05-10T19:52:07.755967Z",
          "iopub.status.idle": "2024-05-10T19:52:07.795566Z",
          "shell.execute_reply.started": "2024-05-10T19:52:07.755930Z",
          "shell.execute_reply": "2024-05-10T19:52:07.794567Z"
        },
        "trusted": true,
        "colab": {
          "base_uri": "https://localhost:8080/"
        },
        "id": "VUTPQ1BfNwP2",
        "outputId": "ae998ab8-0bbe-4d45-ebf2-c19eb4ccf7aa"
      },
      "execution_count": null,
      "outputs": [
        {
          "output_type": "execute_result",
          "data": {
            "text/plain": [
              "<tf.Tensor: shape=(), dtype=string, numpy=b'lay red in y three again'>"
            ]
          },
          "metadata": {},
          "execution_count": 28
        }
      ],
      "id": "VUTPQ1BfNwP2"
    },
    {
      "cell_type": "markdown",
      "source": [
        "# 3. Design the Deep Neural Network"
      ],
      "metadata": {
        "tags": [],
        "id": "sM8ro4jLNwP2"
      },
      "id": "sM8ro4jLNwP2"
    },
    {
      "cell_type": "code",
      "source": [
        "from tensorflow.keras.models import Sequential\n",
        "from tensorflow.keras.layers import Conv3D, LSTM, Dense, Dropout, Bidirectional, MaxPool3D, Activation, Reshape, SpatialDropout3D, BatchNormalization, TimeDistributed, Flatten\n",
        "from tensorflow.keras.optimizers import Adam\n",
        "from tensorflow.keras.callbacks import ModelCheckpoint, LearningRateScheduler"
      ],
      "metadata": {
        "tags": [],
        "execution": {
          "iopub.status.busy": "2024-05-10T19:52:13.458647Z",
          "iopub.execute_input": "2024-05-10T19:52:13.459390Z",
          "iopub.status.idle": "2024-05-10T19:52:13.466931Z",
          "shell.execute_reply.started": "2024-05-10T19:52:13.459356Z",
          "shell.execute_reply": "2024-05-10T19:52:13.465950Z"
        },
        "trusted": true,
        "id": "C21pE1vjNwP2"
      },
      "execution_count": null,
      "outputs": [],
      "id": "C21pE1vjNwP2"
    },
    {
      "cell_type": "code",
      "source": [
        "data.as_numpy_iterator().next()[0][0].shape"
      ],
      "metadata": {
        "execution": {
          "iopub.status.busy": "2024-05-10T19:52:16.208616Z",
          "iopub.execute_input": "2024-05-10T19:52:16.209352Z",
          "iopub.status.idle": "2024-05-10T19:52:16.955915Z",
          "shell.execute_reply.started": "2024-05-10T19:52:16.209317Z",
          "shell.execute_reply": "2024-05-10T19:52:16.954852Z"
        },
        "trusted": true,
        "colab": {
          "base_uri": "https://localhost:8080/"
        },
        "id": "UUPzoHRxNwP2",
        "outputId": "56300e69-f135-4beb-b2f4-b4960de28d5c"
      },
      "execution_count": null,
      "outputs": [
        {
          "output_type": "execute_result",
          "data": {
            "text/plain": [
              "(75, 46, 140, 1)"
            ]
          },
          "metadata": {},
          "execution_count": 30
        }
      ],
      "id": "UUPzoHRxNwP2"
    },
    {
      "cell_type": "code",
      "source": [
        "model = Sequential()\n",
        "model.add(Conv3D(128, 3, input_shape=(75,46,140,1), padding='same'))\n",
        "model.add(Activation('relu'))\n",
        "model.add(MaxPool3D((1,2,2)))\n",
        "\n",
        "model.add(Conv3D(256, 3, padding='same'))\n",
        "model.add(Activation('relu'))\n",
        "model.add(MaxPool3D((1,2,2)))\n",
        "\n",
        "model.add(Conv3D(75, 3, padding='same'))\n",
        "model.add(Activation('relu'))\n",
        "model.add(MaxPool3D((1,2,2)))\n",
        "\n",
        "model.add(TimeDistributed(Flatten()))\n",
        "\n",
        "model.add(Bidirectional(LSTM(128, kernel_initializer='Orthogonal', return_sequences=True)))\n",
        "model.add(Dropout(.5))\n",
        "\n",
        "model.add(Bidirectional(LSTM(128, kernel_initializer='Orthogonal', return_sequences=True)))\n",
        "model.add(Dropout(.5))\n",
        "\n",
        "model.add(Dense(char_to_num.vocabulary_size()+1, kernel_initializer='he_normal', activation='softmax'))"
      ],
      "metadata": {
        "tags": [],
        "execution": {
          "iopub.status.busy": "2024-05-10T19:53:22.215090Z",
          "iopub.execute_input": "2024-05-10T19:53:22.215480Z",
          "iopub.status.idle": "2024-05-10T19:53:24.728827Z",
          "shell.execute_reply.started": "2024-05-10T19:53:22.215425Z",
          "shell.execute_reply": "2024-05-10T19:53:24.727983Z"
        },
        "trusted": true,
        "id": "Tq01G35vNwP9"
      },
      "execution_count": null,
      "outputs": [],
      "id": "Tq01G35vNwP9"
    },
    {
      "cell_type": "code",
      "source": [
        "model.summary()"
      ],
      "metadata": {
        "tags": [],
        "execution": {
          "iopub.status.busy": "2024-05-10T19:53:28.383557Z",
          "iopub.execute_input": "2024-05-10T19:53:28.383930Z",
          "iopub.status.idle": "2024-05-10T19:53:28.432079Z",
          "shell.execute_reply.started": "2024-05-10T19:53:28.383902Z",
          "shell.execute_reply": "2024-05-10T19:53:28.430334Z"
        },
        "trusted": true,
        "colab": {
          "base_uri": "https://localhost:8080/"
        },
        "id": "QCINXUOPNwP9",
        "outputId": "499f578a-b198-47f0-c0a5-7a57651fe3b5"
      },
      "execution_count": null,
      "outputs": [
        {
          "output_type": "stream",
          "name": "stdout",
          "text": [
            "Model: \"sequential\"\n",
            "_________________________________________________________________\n",
            " Layer (type)                Output Shape              Param #   \n",
            "=================================================================\n",
            " conv3d (Conv3D)             (None, 75, 46, 140, 128   3584      \n",
            "                             )                                   \n",
            "                                                                 \n",
            " activation (Activation)     (None, 75, 46, 140, 128   0         \n",
            "                             )                                   \n",
            "                                                                 \n",
            " max_pooling3d (MaxPooling3  (None, 75, 23, 70, 128)   0         \n",
            " D)                                                              \n",
            "                                                                 \n",
            " conv3d_1 (Conv3D)           (None, 75, 23, 70, 256)   884992    \n",
            "                                                                 \n",
            " activation_1 (Activation)   (None, 75, 23, 70, 256)   0         \n",
            "                                                                 \n",
            " max_pooling3d_1 (MaxPoolin  (None, 75, 11, 35, 256)   0         \n",
            " g3D)                                                            \n",
            "                                                                 \n",
            " conv3d_2 (Conv3D)           (None, 75, 11, 35, 75)    518475    \n",
            "                                                                 \n",
            " activation_2 (Activation)   (None, 75, 11, 35, 75)    0         \n",
            "                                                                 \n",
            " max_pooling3d_2 (MaxPoolin  (None, 75, 5, 17, 75)     0         \n",
            " g3D)                                                            \n",
            "                                                                 \n",
            " time_distributed (TimeDist  (None, 75, 6375)          0         \n",
            " ributed)                                                        \n",
            "                                                                 \n",
            " bidirectional (Bidirection  (None, 75, 256)           6660096   \n",
            " al)                                                             \n",
            "                                                                 \n",
            " dropout (Dropout)           (None, 75, 256)           0         \n",
            "                                                                 \n",
            " bidirectional_1 (Bidirecti  (None, 75, 256)           394240    \n",
            " onal)                                                           \n",
            "                                                                 \n",
            " dropout_1 (Dropout)         (None, 75, 256)           0         \n",
            "                                                                 \n",
            " dense (Dense)               (None, 75, 41)            10537     \n",
            "                                                                 \n",
            "=================================================================\n",
            "Total params: 8471924 (32.32 MB)\n",
            "Trainable params: 8471924 (32.32 MB)\n",
            "Non-trainable params: 0 (0.00 Byte)\n",
            "_________________________________________________________________\n"
          ]
        }
      ],
      "id": "QCINXUOPNwP9"
    },
    {
      "cell_type": "code",
      "source": [
        "yhat = model.predict(val[0])"
      ],
      "metadata": {
        "tags": [],
        "execution": {
          "iopub.status.busy": "2024-05-10T19:53:37.715939Z",
          "iopub.execute_input": "2024-05-10T19:53:37.716760Z",
          "iopub.status.idle": "2024-05-10T19:53:44.367570Z",
          "shell.execute_reply.started": "2024-05-10T19:53:37.716720Z",
          "shell.execute_reply": "2024-05-10T19:53:44.366669Z"
        },
        "trusted": true,
        "colab": {
          "base_uri": "https://localhost:8080/"
        },
        "id": "tBpoLCT4NwP9",
        "outputId": "e15d0755-2c82-41e8-afa4-34617741cfdf"
      },
      "execution_count": null,
      "outputs": [
        {
          "output_type": "stream",
          "name": "stdout",
          "text": [
            "1/1 [==============================] - 5s 5s/step\n"
          ]
        }
      ],
      "id": "tBpoLCT4NwP9"
    },
    {
      "cell_type": "code",
      "source": [
        "tf.strings.reduce_join([num_to_char(x) for x in tf.argmax(yhat[0],axis=1)])"
      ],
      "metadata": {
        "execution": {
          "iopub.status.busy": "2024-05-10T19:53:50.603815Z",
          "iopub.execute_input": "2024-05-10T19:53:50.604242Z",
          "iopub.status.idle": "2024-05-10T19:53:50.689937Z",
          "shell.execute_reply.started": "2024-05-10T19:53:50.604207Z",
          "shell.execute_reply": "2024-05-10T19:53:50.688931Z"
        },
        "trusted": true,
        "colab": {
          "base_uri": "https://localhost:8080/"
        },
        "id": "VlOX6fEwNwP9",
        "outputId": "36bf6f24-eb19-4ab5-95aa-7f3f0679471e"
      },
      "execution_count": null,
      "outputs": [
        {
          "output_type": "execute_result",
          "data": {
            "text/plain": [
              "<tf.Tensor: shape=(), dtype=string, numpy=b'rr22ccccccccccccccccjjccccccccccccccccccccccccccccccccccccccccccccccjjjjjjj'>"
            ]
          },
          "metadata": {},
          "execution_count": 34
        }
      ],
      "id": "VlOX6fEwNwP9"
    },
    {
      "cell_type": "code",
      "source": [
        "model.input_shape"
      ],
      "metadata": {
        "tags": [],
        "execution": {
          "iopub.status.busy": "2024-05-10T19:54:11.283198Z",
          "iopub.execute_input": "2024-05-10T19:54:11.283692Z",
          "iopub.status.idle": "2024-05-10T19:54:11.290185Z",
          "shell.execute_reply.started": "2024-05-10T19:54:11.283659Z",
          "shell.execute_reply": "2024-05-10T19:54:11.289110Z"
        },
        "trusted": true,
        "colab": {
          "base_uri": "https://localhost:8080/"
        },
        "id": "HmaBQZHwNwP-",
        "outputId": "bcaded32-37de-4008-8b27-ca17f6097e76"
      },
      "execution_count": null,
      "outputs": [
        {
          "output_type": "execute_result",
          "data": {
            "text/plain": [
              "(None, 75, 46, 140, 1)"
            ]
          },
          "metadata": {},
          "execution_count": 35
        }
      ],
      "id": "HmaBQZHwNwP-"
    },
    {
      "cell_type": "code",
      "source": [
        "model.output_shape"
      ],
      "metadata": {
        "tags": [],
        "execution": {
          "iopub.status.busy": "2024-05-10T19:54:13.262678Z",
          "iopub.execute_input": "2024-05-10T19:54:13.263584Z",
          "iopub.status.idle": "2024-05-10T19:54:13.269515Z",
          "shell.execute_reply.started": "2024-05-10T19:54:13.263550Z",
          "shell.execute_reply": "2024-05-10T19:54:13.268418Z"
        },
        "trusted": true,
        "colab": {
          "base_uri": "https://localhost:8080/"
        },
        "id": "-fGNHcCBNwP-",
        "outputId": "16e316f8-f960-46d6-f63a-9e92d2fec0a0"
      },
      "execution_count": null,
      "outputs": [
        {
          "output_type": "execute_result",
          "data": {
            "text/plain": [
              "(None, 75, 41)"
            ]
          },
          "metadata": {},
          "execution_count": 36
        }
      ],
      "id": "-fGNHcCBNwP-"
    },
    {
      "cell_type": "markdown",
      "source": [
        "# 4. Setup Training Options and Train"
      ],
      "metadata": {
        "tags": [],
        "id": "1Nj10xcINwP-"
      },
      "id": "1Nj10xcINwP-"
    },
    {
      "cell_type": "code",
      "source": [
        "def scheduler(epoch, lr):\n",
        "    if epoch < 30:\n",
        "        return lr\n",
        "    else:\n",
        "        return lr * tf.math.exp(-0.1)"
      ],
      "metadata": {
        "tags": [],
        "execution": {
          "iopub.status.busy": "2024-05-10T19:54:16.986470Z",
          "iopub.execute_input": "2024-05-10T19:54:16.986869Z",
          "iopub.status.idle": "2024-05-10T19:54:16.995040Z",
          "shell.execute_reply.started": "2024-05-10T19:54:16.986839Z",
          "shell.execute_reply": "2024-05-10T19:54:16.993884Z"
        },
        "trusted": true,
        "id": "V9iqosfRNwP-"
      },
      "execution_count": null,
      "outputs": [],
      "id": "V9iqosfRNwP-"
    },
    {
      "cell_type": "code",
      "source": [
        "def CTCLoss(y_true, y_pred):\n",
        "    batch_len = tf.cast(tf.shape(y_true)[0], dtype=\"int64\")\n",
        "    input_length = tf.cast(tf.shape(y_pred)[1], dtype=\"int64\")\n",
        "    label_length = tf.cast(tf.shape(y_true)[1], dtype=\"int64\")\n",
        "\n",
        "    input_length = input_length * tf.ones(shape=(batch_len, 1), dtype=\"int64\")\n",
        "    label_length = label_length * tf.ones(shape=(batch_len, 1), dtype=\"int64\")\n",
        "\n",
        "    loss = tf.keras.backend.ctc_batch_cost(y_true, y_pred, input_length, label_length)\n",
        "    return loss"
      ],
      "metadata": {
        "tags": [],
        "execution": {
          "iopub.status.busy": "2024-05-10T19:54:19.616893Z",
          "iopub.execute_input": "2024-05-10T19:54:19.617273Z",
          "iopub.status.idle": "2024-05-10T19:54:19.624155Z",
          "shell.execute_reply.started": "2024-05-10T19:54:19.617243Z",
          "shell.execute_reply": "2024-05-10T19:54:19.623084Z"
        },
        "trusted": true,
        "id": "d7_9XqNnNwP-"
      },
      "execution_count": null,
      "outputs": [],
      "id": "d7_9XqNnNwP-"
    },
    {
      "cell_type": "code",
      "source": [
        "class ProduceExample(tf.keras.callbacks.Callback):\n",
        "    def __init__(self, dataset) -> None:\n",
        "        self.dataset = dataset.as_numpy_iterator()\n",
        "\n",
        "    def on_epoch_end(self, epoch, logs=None) -> None:\n",
        "        data = self.dataset.next()\n",
        "        yhat = self.model.predict(data[0])\n",
        "        decoded = tf.keras.backend.ctc_decode(yhat, [75,75], greedy=False)[0][0].numpy()\n",
        "        for x in range(len(yhat)):\n",
        "            print('Original:', tf.strings.reduce_join(num_to_char(data[1][x])).numpy().decode('utf-8'))\n",
        "            print('Prediction:', tf.strings.reduce_join(num_to_char(decoded[x])).numpy().decode('utf-8'))\n",
        "            print('~'*100)"
      ],
      "metadata": {
        "tags": [],
        "execution": {
          "iopub.status.busy": "2024-05-10T19:54:22.471393Z",
          "iopub.execute_input": "2024-05-10T19:54:22.471798Z",
          "iopub.status.idle": "2024-05-10T19:54:22.479361Z",
          "shell.execute_reply.started": "2024-05-10T19:54:22.471759Z",
          "shell.execute_reply": "2024-05-10T19:54:22.478301Z"
        },
        "trusted": true,
        "id": "Snw3b9XcNwP_"
      },
      "execution_count": null,
      "outputs": [],
      "id": "Snw3b9XcNwP_"
    },
    {
      "cell_type": "code",
      "source": [
        "model.compile(optimizer=Adam(learning_rate=0.0001), loss=CTCLoss)"
      ],
      "metadata": {
        "tags": [],
        "execution": {
          "iopub.status.busy": "2024-05-10T19:54:26.631091Z",
          "iopub.execute_input": "2024-05-10T19:54:26.631481Z",
          "iopub.status.idle": "2024-05-10T19:54:26.653138Z",
          "shell.execute_reply.started": "2024-05-10T19:54:26.631449Z",
          "shell.execute_reply": "2024-05-10T19:54:26.652172Z"
        },
        "trusted": true,
        "id": "GBrq_Pd6NwP_"
      },
      "execution_count": null,
      "outputs": [],
      "id": "GBrq_Pd6NwP_"
    },
    {
      "cell_type": "code",
      "source": [
        "checkpoint_callback = ModelCheckpoint(os.path.join('models','checkpoint'), monitor='loss', save_weights_only=True)"
      ],
      "metadata": {
        "tags": [],
        "execution": {
          "iopub.status.busy": "2024-05-10T19:54:36.048352Z",
          "iopub.execute_input": "2024-05-10T19:54:36.049280Z",
          "iopub.status.idle": "2024-05-10T19:54:36.053617Z",
          "shell.execute_reply.started": "2024-05-10T19:54:36.049246Z",
          "shell.execute_reply": "2024-05-10T19:54:36.052643Z"
        },
        "trusted": true,
        "id": "oL_r1_fzNwP_"
      },
      "execution_count": null,
      "outputs": [],
      "id": "oL_r1_fzNwP_"
    },
    {
      "cell_type": "code",
      "source": [
        "schedule_callback = LearningRateScheduler(scheduler)"
      ],
      "metadata": {
        "tags": [],
        "execution": {
          "iopub.status.busy": "2024-05-10T19:54:38.904971Z",
          "iopub.execute_input": "2024-05-10T19:54:38.905361Z",
          "iopub.status.idle": "2024-05-10T19:54:38.910159Z",
          "shell.execute_reply.started": "2024-05-10T19:54:38.905333Z",
          "shell.execute_reply": "2024-05-10T19:54:38.908951Z"
        },
        "trusted": true,
        "id": "DRgwGkHpNwQA"
      },
      "execution_count": null,
      "outputs": [],
      "id": "DRgwGkHpNwQA"
    },
    {
      "cell_type": "code",
      "source": [
        "example_callback = ProduceExample(test)"
      ],
      "metadata": {
        "tags": [],
        "execution": {
          "iopub.status.busy": "2024-05-10T19:54:44.416203Z",
          "iopub.execute_input": "2024-05-10T19:54:44.416905Z",
          "iopub.status.idle": "2024-05-10T19:54:44.427422Z",
          "shell.execute_reply.started": "2024-05-10T19:54:44.416870Z",
          "shell.execute_reply": "2024-05-10T19:54:44.426175Z"
        },
        "trusted": true,
        "id": "dXLuKLxbNwQA"
      },
      "execution_count": null,
      "outputs": [],
      "id": "dXLuKLxbNwQA"
    },
    {
      "cell_type": "code",
      "source": [
        "model.fit(train, validation_data=test, epochs=5, callbacks=[checkpoint_callback, schedule_callback, example_callback])"
      ],
      "metadata": {
        "tags": [],
        "execution": {
          "iopub.status.busy": "2024-05-10T19:54:55.376524Z",
          "iopub.execute_input": "2024-05-10T19:54:55.377166Z"
        },
        "trusted": true,
        "colab": {
          "base_uri": "https://localhost:8080/"
        },
        "id": "SdWIvQP1NwQA",
        "outputId": "e536568e-9bcc-4271-9c59-d7f629ee52b6"
      },
      "execution_count": null,
      "outputs": [
        {
          "output_type": "stream",
          "name": "stdout",
          "text": [
            "Epoch 1/5\n",
            "389/450 [========================>.....] - ETA: 1:00 - loss: 87.3620"
          ]
        }
      ],
      "id": "SdWIvQP1NwQA"
    },
    {
      "cell_type": "markdown",
      "source": [
        "# 5. Make a Prediction"
      ],
      "metadata": {
        "tags": [],
        "id": "bGTWpDbhNwQB"
      },
      "id": "bGTWpDbhNwQB"
    },
    {
      "cell_type": "code",
      "source": [
        "url = 'https://drive.google.com/uc?id=1vWscXs4Vt0a_1IH1-ct2TCgXAZT-N3_Y'\n",
        "output = 'checkpoints.zip'\n",
        "gdown.download(url, output, quiet=False)\n",
        "gdown.extractall('checkpoints.zip', 'models')"
      ],
      "metadata": {
        "tags": [],
        "id": "28Q2bDg6NwQB"
      },
      "execution_count": null,
      "outputs": [],
      "id": "28Q2bDg6NwQB"
    },
    {
      "cell_type": "code",
      "source": [
        "model.load_weights('models/checkpoint')"
      ],
      "metadata": {
        "tags": [],
        "id": "OqiXxeeDNwQB",
        "outputId": "be6b46b3-c753-4f2a-cf5d-545891f32945"
      },
      "execution_count": null,
      "outputs": [
        {
          "execution_count": 53,
          "output_type": "execute_result",
          "data": {
            "text/plain": [
              "<tensorflow.python.checkpoint.checkpoint.CheckpointLoadStatus at 0x10cfb56c6a0>"
            ]
          },
          "metadata": {}
        }
      ],
      "id": "OqiXxeeDNwQB"
    },
    {
      "cell_type": "code",
      "source": [
        "test_data = test.as_numpy_iterator()"
      ],
      "metadata": {
        "tags": [],
        "id": "mF-O54ReNwQC"
      },
      "execution_count": null,
      "outputs": [],
      "id": "mF-O54ReNwQC"
    },
    {
      "cell_type": "code",
      "source": [
        "sample = test_data.next()"
      ],
      "metadata": {
        "tags": [],
        "id": "jTJtBmE4NwQC"
      },
      "execution_count": null,
      "outputs": [],
      "id": "jTJtBmE4NwQC"
    },
    {
      "cell_type": "code",
      "source": [
        "yhat = model.predict(sample[0])"
      ],
      "metadata": {
        "tags": [],
        "id": "-eKAQ4VDNwQC",
        "outputId": "fb699774-eeaf-4dc8-cd3c-ddb1a21d6961"
      },
      "execution_count": null,
      "outputs": [
        {
          "name": "stdout",
          "output_type": "stream",
          "text": "1/1 [==============================] - 1s 973ms/step\n"
        }
      ],
      "id": "-eKAQ4VDNwQC"
    },
    {
      "cell_type": "code",
      "source": [
        "print('~'*100, 'REAL TEXT')\n",
        "[tf.strings.reduce_join([num_to_char(word) for word in sentence]) for sentence in sample[1]]"
      ],
      "metadata": {
        "tags": [],
        "id": "pXUvdOixNwQC",
        "outputId": "e7253d57-e1e2-442f-c688-8610c81ae076"
      },
      "execution_count": null,
      "outputs": [
        {
          "name": "stdout",
          "output_type": "stream",
          "text": "~~~~~~~~~~~~~~~~~~~~~~~~~~~~~~~~~~~~~~~~~~~~~~~~~~~~~~~~~~~~~~~~~~~~~~~~~~~~~~~~~~~~~~~~~~~~~~~~~~~~ REAL TEXT\n"
        },
        {
          "execution_count": 58,
          "output_type": "execute_result",
          "data": {
            "text/plain": [
              "[<tf.Tensor: shape=(), dtype=string, numpy=b'place white at x six please'>,\n",
              " <tf.Tensor: shape=(), dtype=string, numpy=b'lay blue in x four now'>]"
            ]
          },
          "metadata": {}
        }
      ],
      "id": "pXUvdOixNwQC"
    },
    {
      "cell_type": "code",
      "source": [
        "decoded = tf.keras.backend.ctc_decode(yhat, input_length=[75,75], greedy=True)[0][0].numpy()"
      ],
      "metadata": {
        "tags": [],
        "id": "HkqEUsiKNwQD"
      },
      "execution_count": null,
      "outputs": [],
      "id": "HkqEUsiKNwQD"
    },
    {
      "cell_type": "code",
      "source": [
        "print('~'*100, 'PREDICTIONS')\n",
        "[tf.strings.reduce_join([num_to_char(word) for word in sentence]) for sentence in decoded]"
      ],
      "metadata": {
        "tags": [],
        "id": "V_MtbiYDNwQD",
        "outputId": "2f2b18e7-b8c3-41c8-dc39-74bbe7e7a371"
      },
      "execution_count": null,
      "outputs": [
        {
          "name": "stdout",
          "output_type": "stream",
          "text": "~~~~~~~~~~~~~~~~~~~~~~~~~~~~~~~~~~~~~~~~~~~~~~~~~~~~~~~~~~~~~~~~~~~~~~~~~~~~~~~~~~~~~~~~~~~~~~~~~~~~ PREDICTIONS\n"
        },
        {
          "execution_count": 60,
          "output_type": "execute_result",
          "data": {
            "text/plain": [
              "[<tf.Tensor: shape=(), dtype=string, numpy=b'place white at x six please'>,\n",
              " <tf.Tensor: shape=(), dtype=string, numpy=b'lay blue in x four now'>]"
            ]
          },
          "metadata": {}
        }
      ],
      "id": "V_MtbiYDNwQD"
    },
    {
      "cell_type": "markdown",
      "source": [
        "# Test on a Video"
      ],
      "metadata": {
        "id": "JKOxxghENwQD"
      },
      "id": "JKOxxghENwQD"
    },
    {
      "cell_type": "code",
      "source": [
        "sample = load_data(tf.convert_to_tensor('.\\\\data\\\\s1\\\\bras9a.mpg'))"
      ],
      "metadata": {
        "id": "HrcqXUX5NwQD"
      },
      "execution_count": null,
      "outputs": [],
      "id": "HrcqXUX5NwQD"
    },
    {
      "cell_type": "code",
      "source": [
        "print('~'*100, 'REAL TEXT')\n",
        "[tf.strings.reduce_join([num_to_char(word) for word in sentence]) for sentence in [sample[1]]]"
      ],
      "metadata": {
        "id": "2ykncdbHNwQE",
        "outputId": "28d91ed9-9cf9-400a-9d2e-43ef1c5e3239"
      },
      "execution_count": null,
      "outputs": [
        {
          "name": "stdout",
          "output_type": "stream",
          "text": "~~~~~~~~~~~~~~~~~~~~~~~~~~~~~~~~~~~~~~~~~~~~~~~~~~~~~~~~~~~~~~~~~~~~~~~~~~~~~~~~~~~~~~~~~~~~~~~~~~~~ REAL TEXT\n"
        },
        {
          "execution_count": 62,
          "output_type": "execute_result",
          "data": {
            "text/plain": [
              "[<tf.Tensor: shape=(), dtype=string, numpy=b'bin red at s nine again'>]"
            ]
          },
          "metadata": {}
        }
      ],
      "id": "2ykncdbHNwQE"
    },
    {
      "cell_type": "code",
      "source": [
        "yhat = model.predict(tf.expand_dims(sample[0], axis=0))"
      ],
      "metadata": {
        "id": "qvxVNpd7NwQE",
        "outputId": "adbbb607-0847-46de-8b8c-af758d5f890f"
      },
      "execution_count": null,
      "outputs": [
        {
          "name": "stdout",
          "output_type": "stream",
          "text": "1/1 [==============================] - 1s 720ms/step\n"
        }
      ],
      "id": "qvxVNpd7NwQE"
    },
    {
      "cell_type": "code",
      "source": [
        "decoded = tf.keras.backend.ctc_decode(yhat, input_length=[75], greedy=True)[0][0].numpy()"
      ],
      "metadata": {
        "id": "u3j4dgXDNwQE"
      },
      "execution_count": null,
      "outputs": [],
      "id": "u3j4dgXDNwQE"
    },
    {
      "cell_type": "code",
      "source": [
        "print('~'*100, 'PREDICTIONS')\n",
        "[tf.strings.reduce_join([num_to_char(word) for word in sentence]) for sentence in decoded]"
      ],
      "metadata": {
        "id": "95cGzJ0rNwQE",
        "outputId": "7e73fcce-9868-4a0b-d12a-4f74533939a9"
      },
      "execution_count": null,
      "outputs": [
        {
          "name": "stdout",
          "output_type": "stream",
          "text": "~~~~~~~~~~~~~~~~~~~~~~~~~~~~~~~~~~~~~~~~~~~~~~~~~~~~~~~~~~~~~~~~~~~~~~~~~~~~~~~~~~~~~~~~~~~~~~~~~~~~ PREDICTIONS\n"
        },
        {
          "execution_count": 65,
          "output_type": "execute_result",
          "data": {
            "text/plain": [
              "[<tf.Tensor: shape=(), dtype=string, numpy=b'bin red at s nine again'>]"
            ]
          },
          "metadata": {}
        }
      ],
      "id": "95cGzJ0rNwQE"
    },
    {
      "cell_type": "code",
      "source": [],
      "metadata": {
        "id": "SOxFxqLkNwQF"
      },
      "execution_count": null,
      "outputs": [],
      "id": "SOxFxqLkNwQF"
    },
    {
      "cell_type": "code",
      "source": [],
      "metadata": {
        "id": "Ty3p0d70NwQF"
      },
      "execution_count": null,
      "outputs": [],
      "id": "Ty3p0d70NwQF"
    }
  ]
}